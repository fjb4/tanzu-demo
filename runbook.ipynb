{
 "cells": [
  {
   "cell_type": "markdown",
   "metadata": {},
   "source": [
    "# Cleanup"
   ]
  },
  {
   "cell_type": "markdown",
   "metadata": {},
   "source": [
    "### Delete any existing Docker Hub images"
   ]
  },
  {
   "cell_type": "code",
   "execution_count": null,
   "metadata": {},
   "outputs": [],
   "source": [
    "source ./config.sh\n",
    "\n",
    "set -e\n",
    "\n",
    "TOKEN=$(curl -s -H \"Content-Type: application/json\" -X POST -d '{\"username\": \"'${DOCKERHUB_USERNAME}'\", \"password\": \"'${DOCKERHUB_PASSWORD}'\"}' https://hub.docker.com/v2/users/login/ | jq -r .token)\n",
    "\n",
    "REPOSITORY_NAME=\"account-service\"\n",
    "curl -X DELETE -s -H \"Authorization: JWT ${TOKEN}\" https://hub.docker.com/v2/repositories/${DOCKERHUB_USERNAME}/${REPOSITORY_NAME}/\n",
    "\n",
    "REPOSITORY_NAME=\"confirmation-service\"\n",
    "curl -X DELETE -s -H \"Authorization: JWT ${TOKEN}\" https://hub.docker.com/v2/repositories/${DOCKERHUB_USERNAME}/${REPOSITORY_NAME}/\n",
    "\n",
    "REPOSITORY_NAME=\"payment-service\"\n",
    "curl -X DELETE -s -H \"Authorization: JWT ${TOKEN}\" https://hub.docker.com/v2/repositories/${DOCKERHUB_USERNAME}/${REPOSITORY_NAME}/\n",
    "\n",
    "REPOSITORY_NAME=\"dotnet-core-react-example\"\n",
    "curl -X DELETE -s -H \"Authorization: JWT ${TOKEN}\" https://hub.docker.com/v2/repositories/${DOCKERHUB_USERNAME}/${REPOSITORY_NAME}/"
   ]
  },
  {
   "cell_type": "markdown",
   "metadata": {},
   "source": [
    "# Create and Configure Clusters"
   ]
  },
  {
   "cell_type": "markdown",
   "metadata": {},
   "source": [
    "### Create clusters"
   ]
  },
  {
   "cell_type": "code",
   "execution_count": null,
   "metadata": {},
   "outputs": [],
   "source": [
    "source ./config.sh\n",
    "\n",
    "tmc cluster create --account-name ${ACCOUNT_NAME} --ssh-key-name ${SSH_KEY_NAME} --region ${REGION} --worker-node-count 3 --instance-type m5.xlarge --group ${GROUP} --name ${CICD_CLUSTER}\n",
    "tmc cluster create --account-name ${ACCOUNT_NAME} --ssh-key-name ${SSH_KEY_NAME} --region ${REGION} --worker-node-count 3 --instance-type m5.xlarge --group ${GROUP} --name ${ALPHA_CLUSTER}\n",
    "tmc cluster create --account-name ${ACCOUNT_NAME} --ssh-key-name ${SSH_KEY_NAME} --region ${REGION} --worker-node-count 3 --instance-type m5.xlarge --group ${GROUP} --name ${BRAVO_CLUSTER}"
   ]
  },
  {
   "cell_type": "markdown",
   "metadata": {},
   "source": [
    "### Monitor creation progress"
   ]
  },
  {
   "cell_type": "code",
   "execution_count": null,
   "metadata": {},
   "outputs": [],
   "source": [
    "tmc cluster list --group bush"
   ]
  },
  {
   "cell_type": "markdown",
   "metadata": {},
   "source": [
    "### Add clusters to kubeconfig file"
   ]
  },
  {
   "cell_type": "code",
   "execution_count": null,
   "metadata": {},
   "outputs": [],
   "source": [
    "source ./config.sh\n",
    "\n",
    "KUBECONFIG_CICD=`mktemp` && \\\n",
    "tmc cluster provisionedcluster kubeconfig get ${CICD_CLUSTER} >> ${KUBECONFIG_CICD} && \\\n",
    "KUBECONFIG_ALPHA=`mktemp` && \\\n",
    "tmc cluster provisionedcluster kubeconfig get ${ALPHA_CLUSTER} >> ${KUBECONFIG_ALPHA} && \\\n",
    "KUBECONFIG_BRAVO=`mktemp` && \\\n",
    "tmc cluster provisionedcluster kubeconfig get ${BRAVO_CLUSTER} >> ${KUBECONFIG_BRAVO}\n",
    "\n",
    "if [ $? -eq 0 ]; then\n",
    "    KUBECONFIG=${KUBECONFIG_CICD}:${KUBECONFIG_ALPHA}:${KUBECONFIG_BRAVO} kubectl config view --merge --flatten > ~/.kube/config\n",
    "\n",
    "    rm ${KUBECONFIG_CICD}\n",
    "    rm ${KUBECONFIG_ALPHA}\n",
    "    rm ${KUBECONFIG_BRAVO}\n",
    "fi"
   ]
  },
  {
   "cell_type": "markdown",
   "metadata": {},
   "source": [
    "## Update cluster permissions"
   ]
  },
  {
   "cell_type": "code",
   "execution_count": null,
   "metadata": {},
   "outputs": [],
   "source": [
    "source ./config.sh\n",
    "\n",
    "kubectl config use-context ${CICD_CLUSTER}\n",
    "kubectl create clusterrolebinding privileged-role-binding --clusterrole=vmware-system-tmc-psp-privileged --group=system:authenticated\n",
    "\n",
    "echo\n",
    "kubectl config use-context ${ALPHA_CLUSTER}\n",
    "kubectl create clusterrolebinding privileged-role-binding --clusterrole=vmware-system-tmc-psp-privileged --group=system:authenticated\n",
    "\n",
    "echo\n",
    "kubectl config use-context ${BRAVO_CLUSTER}\n",
    "kubectl create clusterrolebinding privileged-role-binding --clusterrole=vmware-system-tmc-psp-privileged --group=system:authenticated"
   ]
  },
  {
   "cell_type": "markdown",
   "metadata": {},
   "source": [
    "# Install [Argo CD](https://argoproj.github.io/argo-cd/)"
   ]
  },
  {
   "cell_type": "code",
   "execution_count": null,
   "metadata": {},
   "outputs": [],
   "source": [
    "source ./config.sh\n",
    "\n",
    "kubectl config use-context ${CICD_CLUSTER}\n",
    "\n",
    "echo\n",
    "echo 'Create Argo CD namespace...'\n",
    "kubectl create namespace argocd\n",
    "\n",
    "echo\n",
    "echo 'Install Argo CD on the CI/CD cluster...'\n",
    "kubectl -n argocd apply -f https://raw.githubusercontent.com/argoproj/argo-cd/stable/manifests/install.yaml\n",
    "\n",
    "echo\n",
    "echo 'Fetch a Load Balanced IP for the Argo CD server...'\n",
    "kubectl -n argocd patch svc argocd-server -p '{\"spec\": {\"type\": \"LoadBalancer\"}}'"
   ]
  },
  {
   "cell_type": "markdown",
   "metadata": {},
   "source": [
    "### Wait for load balancer to be provisioned..."
   ]
  },
  {
   "cell_type": "code",
   "execution_count": null,
   "metadata": {},
   "outputs": [],
   "source": [
    "source ./config.sh\n",
    "\n",
    "kubectl config use-context ${CICD_CLUSTER}\n",
    "\n",
    "kubectl -n argocd get svc argocd-server\n",
    "nslookup `kubectl -n argocd get svc/argocd-server -o=jsonpath='{.status.loadBalancer.ingress[0].hostname}'`"
   ]
  },
  {
   "cell_type": "markdown",
   "metadata": {},
   "source": [
    "### Finish configuring Argo CD"
   ]
  },
  {
   "cell_type": "code",
   "execution_count": null,
   "metadata": {},
   "outputs": [],
   "source": [
    "source ./config.sh\n",
    "\n",
    "kubectl config use-context ${CICD_CLUSTER}\n",
    "\n",
    "ARGOCD_USERNAME=admin\n",
    "ARGOCD_PASSWORD=`kubectl -n argocd get pods -l app.kubernetes.io/name=argocd-server -o name | cut -d'/' -f 2`\n",
    "\n",
    "echo\n",
    "echo 'Store the Argo CD host name...'\n",
    "ARGOCD_HOST=`kubectl -n argocd get svc/argocd-server -o json | jq '.status.loadBalancer.ingress[0].hostname' -j`\n",
    "\n",
    "./argocd login ${ARGOCD_HOST} --name argocd --username ${ARGOCD_USERNAME} --password ${ARGOCD_PASSWORD} --insecure\n",
    "\n",
    "argocd cluster add ${ALPHA_CLUSTER}\n",
    "argocd cluster add ${BRAVO_CLUSTER}\n",
    "\n",
    "echo\n",
    "echo \"Argo CD Host: $ARGOCD_HOST\"\n",
    "echo \"Username: $ARGOCD_USERNAME\"\n",
    "echo \"Password: $ARGOCD_PASSWORD\""
   ]
  },
  {
   "cell_type": "markdown",
   "metadata": {},
   "source": [
    "# Install Kubeapps"
   ]
  },
  {
   "cell_type": "markdown",
   "metadata": {},
   "source": [
    "### Create service accounts"
   ]
  },
  {
   "cell_type": "code",
   "execution_count": null,
   "metadata": {},
   "outputs": [],
   "source": [
    "source ./config.sh\n",
    "\n",
    "kubectl config use-context ${ALPHA_CLUSTER}\n",
    "\n",
    "echo\n",
    "kubectl create namespace kubeapps\n",
    "kubectl create -n kubeapps serviceaccount kubeapps-operator\n",
    "kubectl create clusterrolebinding kubeapps-operator --clusterrole=cluster-admin --serviceaccount=kubeapps:kubeapps-operator\n",
    "\n",
    "echo\n",
    "echo 'Token for kubeapps on Alpha cluster:'\n",
    "kubectl get -n kubeapps secret $(kubectl get -n kubeapps serviceaccount kubeapps-operator -o jsonpath='{.secrets[].name}') -o go-template='{{.data.token | base64decode}}' && echo\n",
    "\n",
    "echo\n",
    "kubectl config use-context ${BRAVO_CLUSTER}\n",
    "\n",
    "echo\n",
    "kubectl create namespace kubeapps\n",
    "kubectl create -n kubeapps serviceaccount kubeapps-operator\n",
    "kubectl create clusterrolebinding kubeapps-operator --clusterrole=cluster-admin --serviceaccount=kubeapps:kubeapps-operator\n",
    "\n",
    "echo\n",
    "echo 'Token for kubeapps on Bravo cluster:'\n",
    "kubectl get -n kubeapps secret $(kubectl get -n kubeapps serviceaccount kubeapps-operator -o jsonpath='{.secrets[].name}') -o go-template='{{.data.token | base64decode}}' && echo"
   ]
  },
  {
   "cell_type": "markdown",
   "metadata": {},
   "source": [
    "### Configure Argo CD to deploy Kubeapps"
   ]
  },
  {
   "cell_type": "code",
   "execution_count": null,
   "metadata": {},
   "outputs": [],
   "source": [
    "source ./config.sh\n",
    "\n",
    "ALPHA_CLUSTER_URL=`tmc cluster provisionedcluster kubeconfig get ${ALPHA_CLUSTER} | yq r - 'clusters[0].cluster.server'`\n",
    "BRAVO_CLUSTER_URL=`tmc cluster provisionedcluster kubeconfig get ${BRAVO_CLUSTER} | yq r - 'clusters[0].cluster.server'`\n",
    "\n",
    "kubectl config use-context ${CICD_CLUSTER}\n",
    "\n",
    "echo\n",
    "echo 'Configure the Kubeapps Helm chart in Argo CD...'\n",
    "cat ./kubernetes/cicd/argocd/kubeapps.yml | sed \"s/CLUSTER_URL/${ALPHA_CLUSTER_URL//\\//\\\\/}/\" | sed \"s/ENVIRONMENT/alpha/\" | kubectl apply -n argocd -f -\n",
    "cat ./kubernetes/cicd/argocd/kubeapps.yml | sed \"s/CLUSTER_URL/${BRAVO_CLUSTER_URL//\\//\\\\/}/\" | sed \"s/ENVIRONMENT/bravo/\" | kubectl apply -n argocd -f -"
   ]
  },
  {
   "cell_type": "markdown",
   "metadata": {},
   "source": [
    "### Get Kubeapps endpoints & login tokens"
   ]
  },
  {
   "cell_type": "code",
   "execution_count": null,
   "metadata": {},
   "outputs": [],
   "source": [
    "source ./config.sh\n",
    "\n",
    "kubectl config use-context ${ALPHA_CLUSTER}\n",
    "\n",
    "echo\n",
    "echo 'Kubeapps on Alpha cluster:'\n",
    "kubectl get -n kubeapps -o json service kubeapps-alpha | jq '.status.loadBalancer.ingress[0].hostname' -j\n",
    "\n",
    "echo\n",
    "echo\n",
    "echo 'Alpha cluster login token:'\n",
    "kubectl get -n kubeapps secret $(kubectl get -n kubeapps serviceaccount kubeapps-operator -o jsonpath='{.secrets[].name}') -o go-template='{{.data.token | base64decode}}' && echo\n",
    "\n",
    "echo\n",
    "kubectl config use-context ${BRAVO_CLUSTER}\n",
    "\n",
    "echo\n",
    "echo 'Kubeapps on Bravo cluster:'\n",
    "kubectl get -n kubeapps -o json service kubeapps-bravo | jq '.status.loadBalancer.ingress[0].hostname' -j\n",
    "\n",
    "echo\n",
    "echo\n",
    "echo 'Bravo cluster login token:'\n",
    "kubectl get -n kubeapps secret $(kubectl get -n kubeapps serviceaccount kubeapps-operator -o jsonpath='{.secrets[].name}') -o go-template='{{.data.token | base64decode}}' && echo"
   ]
  },
  {
   "cell_type": "markdown",
   "metadata": {},
   "source": [
    "### Install RabbitMQ"
   ]
  },
  {
   "cell_type": "code",
   "execution_count": null,
   "metadata": {},
   "outputs": [],
   "source": [
    "source ./config.sh\n",
    "\n",
    "kubectl config use-context ${ALPHA_CLUSTER}\n",
    "kubectl create namespace rabbit\n",
    "\n",
    "cat ./kubernetes/cicd/argocd/rabbit-secret.template.yml | sed \"s/RABBITMQ_PASSWORD/$ALPHA_RABBITMQ_PASSWORD/\" | kubectl create -n rabbit -f -\n",
    "\n",
    "ALPHA_CLUSTER_URL=`tmc cluster provisionedcluster kubeconfig get ${ALPHA_CLUSTER} | yq r - 'clusters[0].cluster.server'`\n",
    "BRAVO_CLUSTER_URL=`tmc cluster provisionedcluster kubeconfig get ${BRAVO_CLUSTER} | yq r - 'clusters[0].cluster.server'`\n",
    "\n",
    "kubectl config use-context ${CICD_CLUSTER}\n",
    "\n",
    "echo\n",
    "echo 'Configure the RabbitMQ Helm chart in Argo CD...'\n",
    "cat ./kubernetes/cicd/argocd/rabbit.yml | sed \"s/CLUSTER_URL/${ALPHA_CLUSTER_URL//\\//\\\\/}/\" | sed \"s/ENVIRONMENT/alpha/\" | kubectl apply -n argocd -f -\n"
   ]
  },
  {
   "cell_type": "markdown",
   "metadata": {},
   "source": [
    "### Install Redis"
   ]
  },
  {
   "cell_type": "code",
   "execution_count": null,
   "metadata": {},
   "outputs": [],
   "source": [
    "source ./config.sh\n",
    "\n",
    "ALPHA_CLUSTER_URL=`tmc cluster provisionedcluster kubeconfig get ${ALPHA_CLUSTER} | yq r - 'clusters[0].cluster.server'`\n",
    "BRAVO_CLUSTER_URL=`tmc cluster provisionedcluster kubeconfig get ${BRAVO_CLUSTER} | yq r - 'clusters[0].cluster.server'`\n",
    "\n",
    "kubectl config use-context ${ALPHA_CLUSTER}\n",
    "kubectl create namespace redis\n",
    "\n",
    "kubectl config use-context ${CICD_CLUSTER}\n",
    "cat ./kubernetes/cicd/argocd/redis.yml | sed \"s/CLUSTER_URL/${ALPHA_CLUSTER_URL//\\//\\\\/}/\" | sed \"s/ENVIRONMENT/alpha/\" | kubectl apply -n argocd -f -"
   ]
  },
  {
   "cell_type": "markdown",
   "metadata": {},
   "source": [
    "### Install Wavefront Proxy"
   ]
  },
  {
   "cell_type": "code",
   "execution_count": null,
   "metadata": {},
   "outputs": [],
   "source": [
    "source ./config.sh\n",
    "\n",
    "kubectl config use-context ${ALPHA_CLUSTER}\n",
    "kubectl create namespace wavefront\n",
    "cat ./kubernetes/cicd/argocd/wavefront-token.template.yml | sed \"s/WAVEFRONT_TOKEN/$ALPHA_WAVEFRONT_TOKEN/\" | kubectl create -n wavefront -f -\n",
    "\n",
    "echo\n",
    "kubectl config use-context ${BRAVO_CLUSTER}\n",
    "kubectl create namespace wavefront\n",
    "cat ./kubernetes/cicd/argocd/wavefront-token.template.yml | sed \"s/WAVEFRONT_TOKEN/$BRAVO_WAVEFRONT_TOKEN/\" | kubectl create -n wavefront -f -\n",
    "\n",
    "ALPHA_CLUSTER_URL=`tmc cluster provisionedcluster kubeconfig get ${ALPHA_CLUSTER} | yq r - 'clusters[0].cluster.server'`\n",
    "BRAVO_CLUSTER_URL=`tmc cluster provisionedcluster kubeconfig get ${BRAVO_CLUSTER} | yq r - 'clusters[0].cluster.server'`\n",
    "\n",
    "kubectl config use-context ${CICD_CLUSTER}\n",
    "\n",
    "echo\n",
    "echo 'Configure the Wavefront Proxy Helm chart in Argo CD...'\n",
    "cat ./kubernetes/cicd/argocd/wavefront-proxy.yml | sed \"s/CLUSTER_URL/${ALPHA_CLUSTER_URL//\\//\\\\/}/\" | sed \"s/ENVIRONMENT/alpha/\" | kubectl apply -n argocd -f -\n",
    "cat ./kubernetes/cicd/argocd/wavefront-proxy.yml | sed \"s/CLUSTER_URL/${BRAVO_CLUSTER_URL//\\//\\\\/}/\" | sed \"s/ENVIRONMENT/bravo/\" | kubectl apply -n argocd -f -"
   ]
  },
  {
   "cell_type": "markdown",
   "metadata": {},
   "source": [
    "# Install [kpack](https://tanzu.vmware.com/build-service)"
   ]
  },
  {
   "cell_type": "code",
   "execution_count": null,
   "metadata": {},
   "outputs": [],
   "source": [
    "source ./config.sh\n",
    "\n",
    "kubectl config use-context ${CICD_CLUSTER}\n",
    "\n",
    "echo\n",
    "echo 'Install kpack...'\n",
    "kubectl apply -n kpack -f ./kubernetes/cicd/kpack/kpack-release-0.0.9.yml\n",
    "\n",
    "echo\n",
    "echo 'Set the Github and Docker secrets...'\n",
    "cat ./kubernetes/cicd/kpack/github-creds.template.yml | sed \"s/GITHUB_USERNAME/$GITHUB_USERNAME/\" | sed \"s/GITHUB_PASSWORD/$GITHUB_PASSWORD/\" | kubectl create -n kpack -f -\n",
    "cat ./kubernetes/cicd/kpack/dockerhub-creds.template.yml | sed \"s/DOCKERHUB_USERNAME/$DOCKERHUB_USERNAME/\" | sed \"s/DOCKERHUB_PASSWORD/$DOCKERHUB_PASSWORD/\" | kubectl create -n kpack -f -\n",
    "\n",
    "echo\n",
    "echo 'Install the default kpack builder...'\n",
    "kubectl apply -n kpack -f ./kubernetes/cicd/kpack/default-builder.yml"
   ]
  },
  {
   "cell_type": "code",
   "execution_count": null,
   "metadata": {},
   "outputs": [],
   "source": [
    "source ./config.sh\n",
    "\n",
    "kubectl config use-context ${CICD_CLUSTER}\n",
    "\n",
    "echo\n",
    "echo 'Configure the application images...'\n",
    "kubectl apply -n kpack -f ./kubernetes/cicd/kpack/images/account-image.yml\n",
    "kubectl apply -n kpack -f ./kubernetes/cicd/kpack/images/confirmation-image.yml\n",
    "kubectl apply -n kpack -f ./kubernetes/cicd/kpack/images/payment-image.yml\n",
    "kubectl apply -n kpack -f ./kubernetes/cicd/kpack/images/dotnet-image.yml\n",
    "kubectl apply -n kpack -f ./kubernetes/cicd/kpack/images/spring-music-image.yml"
   ]
  },
  {
   "cell_type": "markdown",
   "metadata": {},
   "source": [
    "# Configure [Tanzu Service Mesh](https://console.cloud.vmware.com)"
   ]
  },
  {
   "cell_type": "markdown",
   "metadata": {},
   "source": [
    "### Enable Istio automatic sidecar injection"
   ]
  },
  {
   "cell_type": "code",
   "execution_count": null,
   "metadata": {},
   "outputs": [],
   "source": [
    "source ./config.sh\n",
    "\n",
    "kubectl config use-context ${ALPHA_CLUSTER}\n",
    "kubectl label namespace default istio-injection=enabled --overwrite\n",
    "\n",
    "echo\n",
    "kubectl config use-context ${BRAVO_CLUSTER}\n",
    "kubectl label namespace default istio-injection=enabled --overwrite"
   ]
  },
  {
   "cell_type": "markdown",
   "metadata": {},
   "source": [
    "- Onboard alpha & bravo clusters into Tanzu Service Mesh\n",
    "- Create the \"acme.com\" global namespace and connect the default namespaces in the alpha & bravo clusters"
   ]
  },
  {
   "cell_type": "code",
   "execution_count": null,
   "metadata": {},
   "outputs": [],
   "source": [
    "source ./config.sh\n",
    "\n",
    "kubectl config use-context ${ALPHA_CLUSTER}\n",
    "kubectl create -f ./kubernetes/istio/ingressgateway.yaml\n",
    "kubectl create -f ./kubernetes/istio/virtualservice-alpha.yaml\n",
    "\n",
    "echo\n",
    "kubectl config use-context ${BRAVO_CLUSTER}\n",
    "kubectl create -f ./kubernetes/istio/ingressgateway.yaml\n",
    "kubectl create -f ./kubernetes/istio/virtualservice-bravo.yaml"
   ]
  },
  {
   "cell_type": "markdown",
   "metadata": {},
   "source": [
    "## Configure GitOps for Alpha cluster"
   ]
  },
  {
   "cell_type": "code",
   "execution_count": null,
   "metadata": {},
   "outputs": [],
   "source": [
    "source ./config.sh\n",
    "\n",
    "ALPHA_CLUSTER_URL=`tmc cluster provisionedcluster kubeconfig get ${ALPHA_CLUSTER} | yq r - 'clusters[0].cluster.server'`\n",
    "\n",
    "kubectl config use-context ${ALPHA_CLUSTER}\n",
    "\n",
    "# copy rabbit secrets to default namespace\n",
    "kubectl get secret rabbit --namespace=rabbit --export -o yaml | kubectl apply --namespace=default -f -\n",
    "\n",
    "# copy redis secrets to default namespace\n",
    "kubectl create secret generic redis-alpha --namespace=default --from-literal=\"redis-password\"=`kubectl get --namespace redis secret redis-alpha -o=jsonpath='{.data.redis-password}' | base64 -D`\n",
    "\n",
    "kubectl config use-context ${CICD_CLUSTER}\n",
    "\n",
    "echo\n",
    "echo 'Configure the applications in Argo CD...'\n",
    "cat ./kubernetes/cicd/argocd/account-service.yml | sed \"s/CLUSTER_URL/${ALPHA_CLUSTER_URL//\\//\\\\/}/\" | sed \"s/ENVIRONMENT/alpha/\" | kubectl apply -n argocd -f -\n",
    "cat ./kubernetes/cicd/argocd/confirmation-service.yml | sed \"s/CLUSTER_URL/${ALPHA_CLUSTER_URL//\\//\\\\/}/\" | sed \"s/ENVIRONMENT/alpha/\" | kubectl apply -n argocd -f -\n",
    "cat ./kubernetes/cicd/argocd/payment-service.yml | sed \"s/CLUSTER_URL/${ALPHA_CLUSTER_URL//\\//\\\\/}/\"  | sed \"s/ENVIRONMENT/alpha/\" | kubectl apply -n argocd -f -"
   ]
  },
  {
   "cell_type": "markdown",
   "metadata": {},
   "source": [
    "## Configure GitOps for Bravo cluster"
   ]
  },
  {
   "cell_type": "code",
   "execution_count": null,
   "metadata": {},
   "outputs": [],
   "source": [
    "source ./config.sh\n",
    "\n",
    "BRAVO_CLUSTER_URL=`tmc cluster provisionedcluster kubeconfig get ${BRAVO_CLUSTER} | yq r - 'clusters[0].cluster.server'`\n",
    "\n",
    "kubectl config use-context ${CICD_CLUSTER}\n",
    "\n",
    "echo\n",
    "echo 'Configure the applications in Argo CD...'\n",
    "cat ./kubernetes/cicd/argocd/dotnet-service.yml | sed \"s/CLUSTER_URL/${BRAVO_CLUSTER_URL//\\//\\\\/}/\" | sed \"s/ENVIRONMENT/bravo/\" | kubectl apply -n argocd -f -"
   ]
  },
  {
   "cell_type": "markdown",
   "metadata": {},
   "source": [
    "## Retrieve the external hostname for the Istio ingress gateway"
   ]
  },
  {
   "cell_type": "code",
   "execution_count": null,
   "metadata": {},
   "outputs": [],
   "source": [
    "source ./config.sh\n",
    "\n",
    "kubectl config use-context ${ALPHA_CLUSTER}\n",
    "\n",
    "echo 'Alpha cluster ingress gateway:'\n",
    "kubectl get service istio-ingressgateway -n istio-system -o=jsonpath='{.status.loadBalancer.ingress[0].hostname}'\n",
    "\n",
    "echo\n",
    "echo\n",
    "kubectl config use-context ${BRAVO_CLUSTER}\n",
    "\n",
    "echo 'Bravo cluster ingress gateway:'\n",
    "kubectl get service istio-ingressgateway -n istio-system -o=jsonpath='{.status.loadBalancer.ingress[0].hostname}'"
   ]
  },
  {
   "cell_type": "markdown",
   "metadata": {},
   "source": [
    "## Delete clusters"
   ]
  },
  {
   "cell_type": "code",
   "execution_count": null,
   "metadata": {},
   "outputs": [],
   "source": [
    "source ./config.sh\n",
    "\n",
    "tmc cluster delete ${CICD_CLUSTER}\n",
    "tmc cluster delete ${ALPHA_CLUSTER}\n",
    "tmc cluster delete ${BRAVO_CLUSTER}"
   ]
  },
  {
   "cell_type": "markdown",
   "metadata": {},
   "source": [
    "### To Do\n",
    "- Add links to running applications\n",
    "- Rework the readme file\n",
    "- Use Harbor registry to demonstrate CVEs in public images\n",
    "- Use [direnv](https://direnv.net/)?"
   ]
  }
 ],
 "metadata": {
  "kernelspec": {
   "display_name": "Bash",
   "language": "bash",
   "name": "bash"
  },
  "language_info": {
   "codemirror_mode": "shell",
   "file_extension": ".sh",
   "mimetype": "text/x-sh",
   "name": "bash"
  }
 },
 "nbformat": 4,
 "nbformat_minor": 4
}

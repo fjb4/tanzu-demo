{
 "cells": [
  {
   "cell_type": "markdown",
   "metadata": {},
   "source": [
    "## Configuration"
   ]
  },
  {
   "cell_type": "code",
   "execution_count": null,
   "metadata": {},
   "outputs": [],
   "source": [
    "source ./config.sh"
   ]
  },
  {
   "cell_type": "code",
   "execution_count": null,
   "metadata": {},
   "outputs": [],
   "source": [
    "export ALPHA_CLUSTER_URL=`tmc cluster provisionedcluster kubeconfig get ${ALPHA_CLUSTER} | yq r - 'clusters[0].cluster.server'`\n",
    "export BRAVO_CLUSTER_URL=`tmc cluster provisionedcluster kubeconfig get ${BRAVO_CLUSTER} | yq r - 'clusters[0].cluster.server'`"
   ]
  },
  {
   "cell_type": "markdown",
   "metadata": {},
   "source": [
    "## Create clusters"
   ]
  },
  {
   "cell_type": "code",
   "execution_count": null,
   "metadata": {},
   "outputs": [],
   "source": [
    "tmc cluster create --account-name ${ACCOUNT_NAME} --ssh-key-name ${SSH_KEY_NAME} --region ${REGION} --worker-node-count 3 --instance-type m5.xlarge --group ${GROUP} --name ${CICD_CLUSTER}\n",
    "tmc cluster create --account-name ${ACCOUNT_NAME} --ssh-key-name ${SSH_KEY_NAME} --region ${REGION} --worker-node-count 3 --instance-type m5.xlarge --group ${GROUP} --name ${ALPHA_CLUSTER}\n",
    "tmc cluster create --account-name ${ACCOUNT_NAME} --ssh-key-name ${SSH_KEY_NAME} --region ${REGION} --worker-node-count 2 --instance-type m5.xlarge --group ${GROUP} --name ${BRAVO_CLUSTER}"
   ]
  },
  {
   "cell_type": "code",
   "execution_count": null,
   "metadata": {},
   "outputs": [],
   "source": [
    "watch -d -n 5 tmc cluster list --group bush"
   ]
  },
  {
   "cell_type": "markdown",
   "metadata": {},
   "source": [
    "## Add clusters to kubeconfig file"
   ]
  },
  {
   "cell_type": "code",
   "execution_count": null,
   "metadata": {},
   "outputs": [],
   "source": [
    "KUBECONFIG_CICD=`mktemp`\n",
    "tmc cluster provisionedcluster kubeconfig get ${CICD_CLUSTER} >> ${KUBECONFIG_CICD}\n",
    "\n",
    "KUBECONFIG_ALPHA=`mktemp`\n",
    "tmc cluster provisionedcluster kubeconfig get ${ALPHA_CLUSTER} >> ${KUBECONFIG_ALPHA}\n",
    "\n",
    "KUBECONFIG_BRAVO=`mktemp`\n",
    "tmc cluster provisionedcluster kubeconfig get ${BRAVO_CLUSTER} >> ${KUBECONFIG_BRAVO}\n",
    "\n",
    "KUBECONFIG=${KUBECONFIG_CICD}:${KUBECONFIG_ALPHA}:${KUBECONFIG_BRAVO} kubectl config view --merge --flatten > ~/.kube/config\n",
    "\n",
    "rm ${KUBECONFIG_CICD}\n",
    "rm ${KUBECONFIG_ALPHA}\n",
    "rm ${KUBECONFIG_BRAVO}"
   ]
  },
  {
   "cell_type": "markdown",
   "metadata": {},
   "source": [
    "## Update cluster permissions"
   ]
  },
  {
   "cell_type": "code",
   "execution_count": null,
   "metadata": {},
   "outputs": [],
   "source": [
    "kubectl config use-context ${CICD_CLUSTER}\n",
    "kubectl create clusterrolebinding privileged-role-binding --clusterrole=vmware-system-tmc-psp-privileged --group=system:authenticated\n",
    "\n",
    "echo\n",
    "kubectl config use-context ${ALPHA_CLUSTER}\n",
    "kubectl create clusterrolebinding privileged-role-binding --clusterrole=vmware-system-tmc-psp-privileged --group=system:authenticated\n",
    "\n",
    "kubectl create -n kubeapps serviceaccount kubeapps-operator\n",
    "kubectl create clusterrolebinding kubeapps-operator --clusterrole=cluster-admin --serviceaccount=kubeapps:kubeapps-operator"
   ]
  },
  {
   "cell_type": "markdown",
   "metadata": {},
   "source": [
    "## kubeapps permissions"
   ]
  },
  {
   "cell_type": "code",
   "execution_count": null,
   "metadata": {},
   "outputs": [],
   "source": [
    "echo\n",
    "echo 'Token for kubeapps on Alpha cluster:'\n",
    "kubectl get -n kubeapps secret $(kubectl get -n kubeapps serviceaccount kubeapps-operator -o jsonpath='{.secrets[].name}') -o go-template='{{.data.token | base64decode}}' && echo\n",
    "\n",
    "echo\n",
    "kubectl config use-context ${BRAVO_CLUSTER}\n",
    "kubectl create clusterrolebinding privileged-role-binding --clusterrole=vmware-system-tmc-psp-privileged --group=system:authenticated\n",
    "\n",
    "echo\n",
    "kubectl create -n kubeapps serviceaccount kubeapps-operator\n",
    "kubectl create clusterrolebinding kubeapps-operator --clusterrole=cluster-admin --serviceaccount=kubeapps:kubeapps-operator\n",
    "\n",
    "echo\n",
    "echo 'Token for kubeapps on Bravo cluster:'\n",
    "kubectl get -n kubeapps secret $(kubectl get -n kubeapps serviceaccount kubeapps-operator -o jsonpath='{.secrets[].name}') -o go-template='{{.data.token | base64decode}}' && echo"
   ]
  },
  {
   "cell_type": "markdown",
   "metadata": {},
   "source": [
    "## Enable automatic sidecar injection"
   ]
  },
  {
   "cell_type": "code",
   "execution_count": null,
   "metadata": {},
   "outputs": [],
   "source": [
    "kubectl config use-context ${ALPHA_CLUSTER}\n",
    "kubectl label namespace default istio-injection=enabled --overwrite\n",
    "\n",
    "kubectl config use-context ${BRAVO_CLUSTER}\n",
    "kubectl label namespace default istio-injection=enabled --overwrite"
   ]
  },
  {
   "cell_type": "markdown",
   "metadata": {},
   "source": [
    "## Create namespaces"
   ]
  },
  {
   "cell_type": "code",
   "execution_count": null,
   "metadata": {},
   "outputs": [],
   "source": [
    "kubectl config use-context ${ALPHA_CLUSTER}\n",
    "\n",
    "kubectl create namespace wavefront\n",
    "kubectl create namespace rabbit\n",
    "kubectl create namespace kubeapps\n",
    "\n",
    "kubectl config use-context ${BRAVO_CLUSTER}\n",
    "\n",
    "kubectl create namespace wavefront\n",
    "kubectl create namespace rabbit\n",
    "kubectl create namespace kubeapps"
   ]
  },
  {
   "cell_type": "markdown",
   "metadata": {},
   "source": [
    "## Delete any existing Docker Hub images"
   ]
  },
  {
   "cell_type": "code",
   "execution_count": null,
   "metadata": {},
   "outputs": [],
   "source": [
    "set -e\n",
    "\n",
    "TOKEN=$(curl -s -H \"Content-Type: application/json\" -X POST -d '{\"username\": \"'${DOCKERHUB_USERNAME}'\", \"password\": \"'${DOCKERHUB_PASSWORD}'\"}' https://hub.docker.com/v2/users/login/ | jq -r .token)\n",
    "\n",
    "REPOSITORY_NAME=\"account-service\"\n",
    "curl -X DELETE -s -H \"Authorization: JWT ${TOKEN}\" https://hub.docker.com/v2/repositories/${DOCKERHUB_USERNAME}/${REPOSITORY_NAME}/\n",
    "\n",
    "REPOSITORY_NAME=\"confirmation-service\"\n",
    "curl -X DELETE -s -H \"Authorization: JWT ${TOKEN}\" https://hub.docker.com/v2/repositories/${DOCKERHUB_USERNAME}/${REPOSITORY_NAME}/\n",
    "\n",
    "REPOSITORY_NAME=\"payment-service\"\n",
    "curl -X DELETE -s -H \"Authorization: JWT ${TOKEN}\" https://hub.docker.com/v2/repositories/${DOCKERHUB_USERNAME}/${REPOSITORY_NAME}/\n",
    "\n",
    "REPOSITORY_NAME=\"dotnet-core-react-example\"\n",
    "curl -X DELETE -s -H \"Authorization: JWT ${TOKEN}\" https://hub.docker.com/v2/repositories/${DOCKERHUB_USERNAME}/${REPOSITORY_NAME}/"
   ]
  },
  {
   "cell_type": "markdown",
   "metadata": {},
   "source": [
    "### Configure Tanzu Service Mesh\n",
    "- Onboard alpha & bravo clusters into Tanzu Service Mesh\n",
    "- Create the \"acme.com\" global namespace and connect the default namespaces in the alpha & bravo clusters"
   ]
  },
  {
   "cell_type": "markdown",
   "metadata": {},
   "source": [
    "## Install kpack"
   ]
  },
  {
   "cell_type": "code",
   "execution_count": null,
   "metadata": {},
   "outputs": [],
   "source": [
    "kubectl config use-context ${CICD_CLUSTER}\n",
    "\n",
    "echo\n",
    "echo 'Install kpack...'\n",
    "kubectl apply -n kpack -f ./kubernetes/cicd/kpack/01-kpack-release-0.0.9.yml\n",
    "\n",
    "echo\n",
    "echo 'Set the Github and Docker secrets...'\n",
    "cat ./kubernetes/cicd/kpack/02-github-creds.template.yml | sed \"s/GITHUB_USERNAME/$GITHUB_USERNAME/\" | sed \"s/GITHUB_PASSWORD/$GITHUB_PASSWORD/\" | kubectl create -n kpack -f -\n",
    "cat ./kubernetes/cicd/kpack/03-dockerhub-creds.template.yml | sed \"s/DOCKERHUB_USERNAME/$DOCKERHUB_USERNAME/\" | sed \"s/DOCKERHUB_PASSWORD/$DOCKERHUB_PASSWORD/\" |kubectl create -n kpack -f -\n",
    "\n",
    "echo\n",
    "echo 'Install the default kpack builder...'\n",
    "kubectl apply -n kpack -f ./kubernetes/cicd/kpack/04-default-builder.yml\n",
    "\n",
    "echo\n",
    "echo 'Configure the application images...'\n",
    "kubectl apply -n kpack -f ./kubernetes/cicd/kpack/images/account-image.yml\n",
    "kubectl apply -n kpack -f ./kubernetes/cicd/kpack/images/confirmation-image.yml\n",
    "kubectl apply -n kpack -f ./kubernetes/cicd/kpack/images/payment-image.yml\n",
    "kubectl apply -n kpack -f ./kubernetes/cicd/kpack/images/dotnet-image.yml\n"
   ]
  },
  {
   "cell_type": "markdown",
   "metadata": {},
   "source": [
    "## Install Argo CD"
   ]
  },
  {
   "cell_type": "code",
   "execution_count": null,
   "metadata": {},
   "outputs": [],
   "source": [
    "kubectl config use-context ${CICD_CLUSTER}\n",
    "\n",
    "echo\n",
    "echo 'Create Argo CD namespace...'\n",
    "kubectl create namespace argocd\n",
    "\n",
    "echo\n",
    "echo 'Install Argo CD on the CI/CD cluster...'\n",
    "kubectl -n argocd apply -f https://raw.githubusercontent.com/argoproj/argo-cd/stable/manifests/install.yaml\n",
    "\n",
    "echo\n",
    "echo 'Fetch a Load Balanced IP for the Argo CD server...'\n",
    "kubectl -n argocd patch svc argocd-server -p '{\"spec\": {\"type\": \"LoadBalancer\"}}'"
   ]
  },
  {
   "cell_type": "markdown",
   "metadata": {},
   "source": [
    "### Wait for load balancer to be provisioned..."
   ]
  },
  {
   "cell_type": "code",
   "execution_count": null,
   "metadata": {},
   "outputs": [],
   "source": [
    "kubectl config use-context ${CICD_CLUSTER}\n",
    "\n",
    "watch -d -n 5 \"kubectl -n argocd get svc argocd-server && nslookup `kubectl -n argocd get svc/argocd-server -o json | jq '.status.loadBalancer.ingress[0].hostname' -j`\""
   ]
  },
  {
   "cell_type": "code",
   "execution_count": null,
   "metadata": {},
   "outputs": [],
   "source": [
    "kubectl config use-context ${CICD_CLUSTER}\n",
    "\n",
    "ARGOCD_USERNAME=admin\n",
    "ARGOCD_PASSWORD=`kubectl -n argocd get pods -l app.kubernetes.io/name=argocd-server -o name | cut -d'/' -f 2`\n",
    "\n",
    "echo\n",
    "echo 'Store the Argo CD host name...'\n",
    "ARGOCD_HOST=`kubectl -n argocd get svc/argocd-server -o json | jq '.status.loadBalancer.ingress[0].hostname' -j`\n",
    "\n",
    "echo\n",
    "echo \"Argo CD Host: $ARGOCD_HOST\"\n",
    "echo \"Username: $ARGOCD_USERNAME\"\n",
    "echo \"Password: $ARGOCD_PASSWORD\""
   ]
  },
  {
   "cell_type": "markdown",
   "metadata": {},
   "source": [
    "## Configure credentials"
   ]
  },
  {
   "cell_type": "code",
   "execution_count": null,
   "metadata": {},
   "outputs": [],
   "source": [
    "kubectl config use-context ${ALPHA_CLUSTER}\n",
    "\n",
    "echo\n",
    "cat ./kubernetes/cicd/argocd/rabbit-secret.template.yml | sed \"s/RABBITMQ_PASSWORD/$ALPHA_RABBITMQ_PASSWORD/\"| kubectl create -n argocd -f -\n",
    "\n",
    "cat ./kubernetes/cicd/argocd/rabbit-secret.template.yml | sed \"s/RABBITMQ_PASSWORD/$ALPHA_RABBITMQ_PASSWORD/\" | kubectl create -n rabbit -f -\n",
    "\n",
    "cat ./kubernetes/cicd/argocd/wavefront-token.template.yml | sed \"s/WAVEFRONT_TOKEN/$ALPHA_WAVEFRONT_TOKEN/\" | kubectl create -n wavefront -f -\n",
    "\n",
    "echo\n",
    "kubectl config use-context ${BRAVO_CLUSTER}\n",
    "\n",
    "cat ./kubernetes/cicd/argocd/wavefront-token.template.yml | sed \"s/WAVEFRONT_TOKEN/$BRAVO_WAVEFRONT_TOKEN/\" | kubectl create -n wavefront -f -"
   ]
  },
  {
   "cell_type": "markdown",
   "metadata": {},
   "source": [
    "## Configure GitOps"
   ]
  },
  {
   "cell_type": "code",
   "execution_count": null,
   "metadata": {},
   "outputs": [],
   "source": [
    "kubectl config use-context ${CICD_CLUSTER}\n",
    "\n",
    "echo\n",
    "echo 'Configure the projects in Argo CD...'\n",
    "cat ./kubernetes/cicd/argocd/appproject-alpha.yml | sed \"s/CLUSTER_URL/${ALPHA_CLUSTER_URL//\\//\\\\/}/\" | sed \"s/ENVIRONMENT/alpha/\" | kubectl create -n argocd -f -\n",
    "cat ./kubernetes/cicd/argocd/appproject-bravo.yml | sed \"s/CLUSTER_URL/${BRAVO_CLUSTER_URL//\\//\\\\/}/\" | sed \"s/ENVIRONMENT/bravo/\" | kubectl create -n argocd -f -\n",
    "\n",
    "echo\n",
    "echo 'Configure the Kubeapps Helm chart in Argo CD...'\n",
    "cat ./kubernetes/cicd/argocd/kubeapps.yml | sed \"s/CLUSTER_URL/${ALPHA_CLUSTER_URL//\\//\\\\/}/\" | sed \"s/ENVIRONMENT/alpha/\" | kubectl create -n argocd -f -\n",
    "cat ./kubernetes/cicd/argocd/kubeapps.yml | sed \"s/CLUSTER_URL/${BRAVO_CLUSTER_URL//\\//\\\\/}/\" | sed \"s/ENVIRONMENT/bravo/\" | kubectl create -n argocd -f -\n",
    "\n",
    "echo\n",
    "echo 'Configure the RabbitMQ Helm chart in Argo CD...'\n",
    "cat ./kubernetes/cicd/argocd/rabbit.yml | sed \"s/CLUSTER_URL/${ALPHA_CLUSTER_URL//\\//\\\\/}/\" | sed \"s/ENVIRONMENT/alpha/\" | kubectl create -n argocd -f -\n",
    "\n",
    "echo\n",
    "echo 'Configure the Redis Helm chart in Argo CD...'\n",
    "cat ./kubernetes/cicd/argocd/redis.yml | sed \"s/CLUSTER_URL/${ALPHA_CLUSTER_URL//\\//\\\\/}/\" | sed \"s/ENVIRONMENT/alpha/\" | kubectl create -n argocd -f -\n",
    "echo ''\n",
    "\n",
    "echo\n",
    "echo 'Configure the Wavefront Proxy Helm chart in Argo CD...'\n",
    "cat ./kubernetes/cicd/argocd/wavefront-proxy.yml | sed \"s/CLUSTER_URL/${ALPHA_CLUSTER_URL//\\//\\\\/}/\" | sed \"s/ENVIRONMENT/alpha/\" | kubectl create -n argocd -f -\n",
    "cat ./kubernetes/cicd/argocd/wavefront-proxy.yml | sed \"s/CLUSTER_URL/${BRAVO_CLUSTER_URL//\\//\\\\/}/\" | sed \"s/ENVIRONMENT/bravo/\" | kubectl create -n argocd -f -\n",
    "\n",
    "echo\n",
    "echo 'Configure the applications in Argo CD...'\n",
    "cat ./kubernetes/cicd/argocd/account-service.yml | sed \"s/CLUSTER_URL/${ALPHA_CLUSTER_URL//\\//\\\\/}/\" | sed \"s/ENVIRONMENT/alpha/\" | kubectl create -n argocd -f -\n",
    "cat ./kubernetes/cicd/argocd/confirmation-service.yml | sed \"s/CLUSTER_URL/${ALPHA_CLUSTER_URL//\\//\\\\/}/\" | sed \"s/ENVIRONMENT/alpha/\" | kubectl create -n argocd -f -\n",
    "cat ./kubernetes/cicd/argocd/payment-service.yml | sed \"s/CLUSTER_URL/${ALPHA_CLUSTER_URL//\\//\\\\/}/\" | sed \"s/ENVIRONMENT/alpha/\" | kubectl create -n argocd -f -\n",
    "cat ./kubernetes/cicd/argocd/dotnet-service.yml | sed \"s/CLUSTER_URL/${BRAVO_CLUSTER_URL//\\//\\\\/}/\" | sed \"s/ENVIRONMENT/bravo/\" | kubectl create -n argocd -f -"
   ]
  },
  {
   "cell_type": "markdown",
   "metadata": {},
   "source": [
    "## Retrieve the external hostname for the Istio ingress gateway"
   ]
  },
  {
   "cell_type": "code",
   "execution_count": null,
   "metadata": {},
   "outputs": [],
   "source": [
    "kubectl config use-context ${ALPHA_CLUSTER}\n",
    "kubectl get svc istio-ingressgateway -n istio-system\n",
    "\n",
    "kubectl config use-context ${BRAVO_CLUSTER}\n",
    "kubectl get svc istio-ingressgateway -n istio-system"
   ]
  },
  {
   "cell_type": "markdown",
   "metadata": {},
   "source": [
    "## Delete clusters"
   ]
  },
  {
   "cell_type": "code",
   "execution_count": null,
   "metadata": {},
   "outputs": [],
   "source": [
    "tmc cluster delete ${CICD_CLUSTER}\n",
    "tmc cluster delete ${ALPHA_CLUSTER}\n",
    "tmc cluster delete ${BRAVO_CLUSTER}"
   ]
  },
  {
   "cell_type": "markdown",
   "metadata": {},
   "source": [
    "### To Do\n",
    "- Add links to running applications\n",
    "- Add links to TSM/TMC/TAC\n",
    "- Rework the readme file\n",
    "- Remove old scripts\n",
    "- Use Harbor registry to demonstrate CVEs in public images"
   ]
  },
  {
   "cell_type": "code",
   "execution_count": null,
   "metadata": {},
   "outputs": [],
   "source": []
  }
 ],
 "metadata": {
  "kernelspec": {
   "display_name": "Bash",
   "language": "bash",
   "name": "bash"
  },
  "language_info": {
   "codemirror_mode": "shell",
   "file_extension": ".sh",
   "mimetype": "text/x-sh",
   "name": "bash"
  }
 },
 "nbformat": 4,
 "nbformat_minor": 4
}

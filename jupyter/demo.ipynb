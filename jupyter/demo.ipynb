{
 "cells": [
  {
   "cell_type": "markdown",
   "metadata": {},
   "source": [
    "### Install RabbitMQ"
   ]
  },
  {
   "cell_type": "code",
   "execution_count": null,
   "metadata": {},
   "outputs": [],
   "source": [
    "source ./config.sh\n",
    "\n",
    "kubectl config use-context ${ALPHA_CLUSTER}\n",
    "kubectl create namespace rabbit\n",
    "\n",
    "cat ./kubernetes/cicd/argocd/rabbit-secret.template.yml | sed \"s/RABBITMQ_PASSWORD/$ALPHA_RABBITMQ_PASSWORD/\" | kubectl create -n rabbit -f -\n",
    "\n",
    "ALPHA_CLUSTER_URL=`tmc cluster provisionedcluster kubeconfig get ${ALPHA_CLUSTER} | yq r - 'clusters[0].cluster.server'`\n",
    "BRAVO_CLUSTER_URL=`tmc cluster provisionedcluster kubeconfig get ${BRAVO_CLUSTER} | yq r - 'clusters[0].cluster.server'`\n",
    "\n",
    "kubectl config use-context ${CICD_CLUSTER}\n",
    "\n",
    "echo\n",
    "echo 'Configure the RabbitMQ Helm chart in Argo CD...'\n",
    "cat ./kubernetes/cicd/argocd/rabbit.yml | sed \"s/CLUSTER_URL/${ALPHA_CLUSTER_URL//\\//\\\\/}/\" | sed \"s/ENVIRONMENT/alpha/\" | kubectl apply -n argocd -f -\n"
   ]
  },
  {
   "cell_type": "markdown",
   "metadata": {},
   "source": [
    "### Install Redis"
   ]
  },
  {
   "cell_type": "code",
   "execution_count": null,
   "metadata": {},
   "outputs": [],
   "source": [
    "source ./config.sh\n",
    "\n",
    "ALPHA_CLUSTER_URL=`tmc cluster provisionedcluster kubeconfig get ${ALPHA_CLUSTER} | yq r - 'clusters[0].cluster.server'`\n",
    "BRAVO_CLUSTER_URL=`tmc cluster provisionedcluster kubeconfig get ${BRAVO_CLUSTER} | yq r - 'clusters[0].cluster.server'`\n",
    "\n",
    "kubectl config use-context ${ALPHA_CLUSTER}\n",
    "kubectl create namespace redis\n",
    "\n",
    "kubectl config use-context ${CICD_CLUSTER}\n",
    "cat ./kubernetes/cicd/argocd/redis.yml | sed \"s/CLUSTER_URL/${ALPHA_CLUSTER_URL//\\//\\\\/}/\" | sed \"s/ENVIRONMENT/alpha/\" | kubectl apply -n argocd -f -"
   ]
  },
  {
   "cell_type": "markdown",
   "metadata": {},
   "source": [
    "### Install Wavefront Proxy"
   ]
  },
  {
   "cell_type": "code",
   "execution_count": null,
   "metadata": {},
   "outputs": [],
   "source": [
    "source ./config.sh\n",
    "\n",
    "kubectl config use-context ${ALPHA_CLUSTER}\n",
    "kubectl create namespace wavefront\n",
    "cat ./kubernetes/cicd/argocd/wavefront-token.template.yml | sed \"s/WAVEFRONT_TOKEN/$ALPHA_WAVEFRONT_TOKEN/\" | kubectl create -n wavefront -f -\n",
    "\n",
    "echo\n",
    "kubectl config use-context ${BRAVO_CLUSTER}\n",
    "kubectl create namespace wavefront\n",
    "cat ./kubernetes/cicd/argocd/wavefront-token.template.yml | sed \"s/WAVEFRONT_TOKEN/$BRAVO_WAVEFRONT_TOKEN/\" | kubectl create -n wavefront -f -\n",
    "\n",
    "ALPHA_CLUSTER_URL=`tmc cluster provisionedcluster kubeconfig get ${ALPHA_CLUSTER} | yq r - 'clusters[0].cluster.server'`\n",
    "BRAVO_CLUSTER_URL=`tmc cluster provisionedcluster kubeconfig get ${BRAVO_CLUSTER} | yq r - 'clusters[0].cluster.server'`\n",
    "\n",
    "kubectl config use-context ${CICD_CLUSTER}\n",
    "\n",
    "echo\n",
    "echo 'Configure the Wavefront Proxy Helm chart in Argo CD...'\n",
    "cat ./kubernetes/cicd/argocd/wavefront-proxy.yml | sed \"s/CLUSTER_URL/${ALPHA_CLUSTER_URL//\\//\\\\/}/\" | sed \"s/ENVIRONMENT/alpha/\" | kubectl apply -n argocd -f -\n",
    "cat ./kubernetes/cicd/argocd/wavefront-proxy.yml | sed \"s/CLUSTER_URL/${BRAVO_CLUSTER_URL//\\//\\\\/}/\" | sed \"s/ENVIRONMENT/bravo/\" | kubectl apply -n argocd -f -"
   ]
  },
  {
   "cell_type": "markdown",
   "metadata": {},
   "source": [
    "# Configure [Tanzu Service Mesh](https://console.cloud.vmware.com)"
   ]
  },
  {
   "cell_type": "markdown",
   "metadata": {},
   "source": [
    "### Enable Istio automatic sidecar injection"
   ]
  },
  {
   "cell_type": "code",
   "execution_count": null,
   "metadata": {},
   "outputs": [],
   "source": [
    "source ./config.sh\n",
    "\n",
    "kubectl config use-context ${ALPHA_CLUSTER}\n",
    "kubectl label namespace default istio-injection=enabled --overwrite\n",
    "\n",
    "echo\n",
    "kubectl config use-context ${BRAVO_CLUSTER}\n",
    "kubectl label namespace default istio-injection=enabled --overwrite"
   ]
  },
  {
   "cell_type": "markdown",
   "metadata": {},
   "source": [
    "- Onboard alpha & bravo clusters into Tanzu Service Mesh\n",
    "- Create the \"acme.com\" global namespace and connect the default namespaces in the alpha & bravo clusters"
   ]
  },
  {
   "cell_type": "code",
   "execution_count": null,
   "metadata": {},
   "outputs": [],
   "source": [
    "source ./config.sh\n",
    "\n",
    "kubectl config use-context ${ALPHA_CLUSTER}\n",
    "kubectl create -f ./kubernetes/istio/ingressgateway.yaml\n",
    "kubectl create -f ./kubernetes/istio/virtualservice-alpha.yaml\n",
    "\n",
    "echo\n",
    "kubectl config use-context ${BRAVO_CLUSTER}\n",
    "kubectl create -f ./kubernetes/istio/ingressgateway.yaml\n",
    "kubectl create -f ./kubernetes/istio/virtualservice-bravo.yaml"
   ]
  },
  {
   "cell_type": "markdown",
   "metadata": {},
   "source": [
    "## Configure GitOps for Alpha cluster"
   ]
  },
  {
   "cell_type": "code",
   "execution_count": null,
   "metadata": {},
   "outputs": [],
   "source": [
    "source ./config.sh\n",
    "\n",
    "ALPHA_CLUSTER_URL=`tmc cluster provisionedcluster kubeconfig get ${ALPHA_CLUSTER} | yq r - 'clusters[0].cluster.server'`\n",
    "\n",
    "kubectl config use-context ${ALPHA_CLUSTER}\n",
    "\n",
    "# copy rabbit secrets to default namespace\n",
    "kubectl get secret rabbit --namespace=rabbit --export -o yaml | kubectl apply --namespace=default -f -\n",
    "\n",
    "# copy redis secrets to default namespace\n",
    "kubectl create secret generic redis-alpha --namespace=default --from-literal=\"redis-password\"=`kubectl get --namespace redis secret redis-alpha -o=jsonpath='{.data.redis-password}' | base64 -D`\n",
    "\n",
    "kubectl config use-context ${CICD_CLUSTER}\n",
    "\n",
    "echo\n",
    "echo 'Configure the applications in Argo CD...'\n",
    "cat ./kubernetes/cicd/argocd/account-service.yml | sed \"s/CLUSTER_URL/${ALPHA_CLUSTER_URL//\\//\\\\/}/\" | sed \"s/ENVIRONMENT/alpha/\" | kubectl apply -n argocd -f -\n",
    "cat ./kubernetes/cicd/argocd/confirmation-service.yml | sed \"s/CLUSTER_URL/${ALPHA_CLUSTER_URL//\\//\\\\/}/\" | sed \"s/ENVIRONMENT/alpha/\" | kubectl apply -n argocd -f -\n",
    "cat ./kubernetes/cicd/argocd/payment-service.yml | sed \"s/CLUSTER_URL/${ALPHA_CLUSTER_URL//\\//\\\\/}/\"  | sed \"s/ENVIRONMENT/alpha/\" | kubectl apply -n argocd -f -"
   ]
  },
  {
   "cell_type": "markdown",
   "metadata": {},
   "source": [
    "## Configure GitOps for Bravo cluster"
   ]
  },
  {
   "cell_type": "code",
   "execution_count": null,
   "metadata": {},
   "outputs": [],
   "source": [
    "source ./config.sh\n",
    "\n",
    "BRAVO_CLUSTER_URL=`tmc cluster provisionedcluster kubeconfig get ${BRAVO_CLUSTER} | yq r - 'clusters[0].cluster.server'`\n",
    "\n",
    "kubectl config use-context ${CICD_CLUSTER}\n",
    "\n",
    "echo\n",
    "echo 'Configure the applications in Argo CD...'\n",
    "cat ./kubernetes/cicd/argocd/dotnet-service.yml | sed \"s/CLUSTER_URL/${BRAVO_CLUSTER_URL//\\//\\\\/}/\" | sed \"s/ENVIRONMENT/bravo/\" | kubectl apply -n argocd -f -"
   ]
  },
  {
   "cell_type": "markdown",
   "metadata": {},
   "source": [
    "## Retrieve the external hostname for the Istio ingress gateway"
   ]
  },
  {
   "cell_type": "code",
   "execution_count": null,
   "metadata": {},
   "outputs": [],
   "source": [
    "source ./config.sh\n",
    "\n",
    "kubectl config use-context ${ALPHA_CLUSTER}\n",
    "\n",
    "echo 'Alpha cluster ingress gateway:'\n",
    "kubectl get service istio-ingressgateway -n istio-system -o=jsonpath='{.status.loadBalancer.ingress[0].hostname}'\n",
    "\n",
    "echo\n",
    "echo\n",
    "kubectl config use-context ${BRAVO_CLUSTER}\n",
    "\n",
    "echo 'Bravo cluster ingress gateway:'\n",
    "kubectl get service istio-ingressgateway -n istio-system -o=jsonpath='{.status.loadBalancer.ingress[0].hostname}'"
   ]
  },
  {
   "cell_type": "markdown",
   "metadata": {},
   "source": [
    "### To Do\n",
    "- Add links to running applications\n",
    "- Rework the readme file\n",
    "- Use Harbor registry to demonstrate CVEs in public images\n",
    "- Use [direnv](https://direnv.net/)?"
   ]
  }
 ],
 "metadata": {
  "kernelspec": {
   "display_name": "Bash",
   "language": "bash",
   "name": "bash"
  },
  "language_info": {
   "codemirror_mode": "shell",
   "file_extension": ".sh",
   "mimetype": "text/x-sh",
   "name": "bash"
  }
 },
 "nbformat": 4,
 "nbformat_minor": 4
}

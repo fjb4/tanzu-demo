{
 "cells": [
  {
   "cell_type": "markdown",
   "metadata": {},
   "source": [
    "# Install [kpack](https://tanzu.vmware.com/build-service)"
   ]
  },
  {
   "cell_type": "code",
   "execution_count": null,
   "metadata": {},
   "outputs": [],
   "source": [
    "source ../config.sh\n",
    "\n",
    "kubectl config use-context ${CICD_CLUSTER}\n",
    "\n",
    "echo\n",
    "echo 'Install kpack...'\n",
    "kubectl apply -n kpack -f ./kubernetes/cicd/kpack/kpack-release-0.0.9.yml\n",
    "\n",
    "echo\n",
    "echo 'Set the Github and Docker secrets...'\n",
    "cat ./kubernetes/cicd/kpack/github-creds.template.yml | sed \"s/GITHUB_USERNAME/$GITHUB_USERNAME/\" | sed \"s/GITHUB_PASSWORD/$GITHUB_PASSWORD/\" | kubectl create -n kpack -f -\n",
    "cat ./kubernetes/cicd/kpack/dockerhub-creds.template.yml | sed \"s/DOCKERHUB_USERNAME/$DOCKERHUB_USERNAME/\" | sed \"s/DOCKERHUB_PASSWORD/$DOCKERHUB_PASSWORD/\" | kubectl create -n kpack -f -\n",
    "\n",
    "echo\n",
    "echo 'Install the default kpack builder...'\n",
    "kubectl apply -n kpack -f ./kubernetes/cicd/kpack/default-builder.yml"
   ]
  },
  {
   "cell_type": "code",
   "execution_count": null,
   "metadata": {},
   "outputs": [],
   "source": [
    "source ../config.sh\n",
    "\n",
    "kubectl config use-context ${CICD_CLUSTER}\n",
    "\n",
    "echo\n",
    "echo 'Configure the application images...'\n",
    "kubectl apply -n kpack -f ./kubernetes/cicd/kpack/images/account-image.yml\n",
    "kubectl apply -n kpack -f ./kubernetes/cicd/kpack/images/confirmation-image.yml\n",
    "kubectl apply -n kpack -f ./kubernetes/cicd/kpack/images/payment-image.yml\n",
    "kubectl apply -n kpack -f ./kubernetes/cicd/kpack/images/dotnet-image.yml\n",
    "kubectl apply -n kpack -f ./kubernetes/cicd/kpack/images/spring-music-image.yml"
   ]
  }
 ],
 "metadata": {
  "kernelspec": {
   "display_name": "Python 3",
   "language": "python",
   "name": "python3"
  },
  "language_info": {
   "codemirror_mode": {
    "name": "ipython",
    "version": 3
   },
   "file_extension": ".py",
   "mimetype": "text/x-python",
   "name": "python",
   "nbconvert_exporter": "python",
   "pygments_lexer": "ipython3",
   "version": "3.7.6"
  }
 },
 "nbformat": 4,
 "nbformat_minor": 4
}

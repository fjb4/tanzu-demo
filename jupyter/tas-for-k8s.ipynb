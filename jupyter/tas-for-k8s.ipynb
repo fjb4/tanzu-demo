{
 "cells": [
  {
   "cell_type": "markdown",
   "metadata": {},
   "source": [
    "# TAS for K8S"
   ]
  },
  {
   "cell_type": "markdown",
   "metadata": {},
   "source": [
    "## Provision cluster"
   ]
  },
  {
   "cell_type": "markdown",
   "metadata": {},
   "source": [
    "### Login to Tanzu Mission Control"
   ]
  },
  {
   "cell_type": "code",
   "execution_count": null,
   "metadata": {},
   "outputs": [],
   "source": [
    "source ../config.sh\n",
    "\n",
    "tmc login --no-configure --name tanzu-demo"
   ]
  },
  {
   "cell_type": "markdown",
   "metadata": {},
   "source": [
    "### Create cluster"
   ]
  },
  {
   "cell_type": "code",
   "execution_count": null,
   "metadata": {},
   "outputs": [],
   "source": [
    "source ../config.sh\n",
    "\n",
    "tmc cluster create --account-name ${ACCOUNT_NAME} --ssh-key-name ${SSH_KEY_NAME} --region ${REGION} --worker-node-count 5 --instance-type m5.xlarge --group ${GROUP} --name ${ALPHA_CLUSTER}"
   ]
  },
  {
   "cell_type": "markdown",
   "metadata": {},
   "source": [
    "### Monitor creation progress"
   ]
  },
  {
   "cell_type": "code",
   "execution_count": null,
   "metadata": {},
   "outputs": [],
   "source": [
    "tmc cluster list --group bush"
   ]
  },
  {
   "cell_type": "markdown",
   "metadata": {},
   "source": [
    "### Add cluster to kubeconfig file"
   ]
  },
  {
   "cell_type": "code",
   "execution_count": null,
   "metadata": {},
   "outputs": [],
   "source": [
    "source ../config.sh\n",
    "\n",
    "KUBECONFIG_ALPHA=`mktemp` && \\\n",
    "tmc cluster provisionedcluster kubeconfig get ${ALPHA_CLUSTER} >> ${KUBECONFIG_ALPHA}\n",
    "\n",
    "if [ $? -eq 0 ]; then\n",
    "    KUBECONFIG=${KUBECONFIG_ALPHA} kubectl config view --merge --flatten > ~/.kube/config\n",
    "    rm ${KUBECONFIG_ALPHA}\n",
    "fi"
   ]
  },
  {
   "cell_type": "markdown",
   "metadata": {},
   "source": [
    "### Update cluster permissions"
   ]
  },
  {
   "cell_type": "code",
   "execution_count": null,
   "metadata": {},
   "outputs": [],
   "source": [
    "source ../config.sh\n",
    "\n",
    "kubectl config use-context ${ALPHA_CLUSTER}\n",
    "kubectl create clusterrolebinding privileged-role-binding --clusterrole=vmware-system-tmc-psp-privileged --group=system:authenticated"
   ]
  },
  {
   "cell_type": "markdown",
   "metadata": {},
   "source": [
    "### Delete clusters"
   ]
  },
  {
   "cell_type": "code",
   "execution_count": null,
   "metadata": {},
   "outputs": [],
   "source": [
    "source ../config.sh\n",
    "\n",
    "tmc cluster delete ${ALPHA_CLUSTER}"
   ]
  },
  {
   "cell_type": "markdown",
   "metadata": {},
   "source": [
    "## [Install](https://github.com/cloudfoundry/cf-for-k8s) TAS for K8S"
   ]
  },
  {
   "cell_type": "markdown",
   "metadata": {},
   "source": [
    "### Configure"
   ]
  },
  {
   "cell_type": "code",
   "execution_count": null,
   "metadata": {},
   "outputs": [],
   "source": [
    "source ../config.sh\n",
    "\n",
    "pushd ~/repos\n",
    "rm -rf ./cf-for-k8s\n",
    "\n",
    "git clone https://github.com/cloudfoundry/cf-for-k8s.git\n",
    "cd cf-for-k8s\n",
    "\n",
    "./hack/generate-values.sh -d cf.jb-cloud.com > ./cf-values.yml\n",
    "\n",
    "# configure Docker Hub as image registry\n",
    "echo \"app_registry:\n",
    "   hostname: https://index.docker.io/v1/\n",
    "   repository: \\\"$DOCKERHUB_USERNAME\\\"\n",
    "   username: \\\"$DOCKERHUB_USERNAME\\\"\n",
    "   password: \\\"$DOCKERHUB_PASSWORD\\\"\" >> ./cf-values.yml\n",
    "\n",
    "ytt -f config -f ./cf-values.yml > ./cf-for-k8s-rendered.yml\n",
    "\n",
    "popd"
   ]
  },
  {
   "cell_type": "markdown",
   "metadata": {},
   "source": [
    "## Deploy"
   ]
  },
  {
   "cell_type": "code",
   "execution_count": null,
   "metadata": {
    "scrolled": true
   },
   "outputs": [],
   "source": [
    "source ../config.sh\n",
    "\n",
    "kubectl config use-context ${ALPHA_CLUSTER}\n",
    "\n",
    "pushd ~/repos/cf-for-k8s\n",
    "\n",
    "kapp deploy -a cf -f ./cf-for-k8s-rendered.yml -y\n",
    "\n",
    "popd"
   ]
  },
  {
   "cell_type": "code",
   "execution_count": null,
   "metadata": {},
   "outputs": [],
   "source": [
    "kubectl get svc -n istio-system istio-ingressgateway -o jsonpath='{.status.loadBalancer.ingress[*].hostname}'"
   ]
  },
  {
   "cell_type": "markdown",
   "metadata": {},
   "source": [
    "```\n",
    "# sample A record in Google cloud DNS. The IP address below is the address of Ingress gateway's external IP\n",
    "Domain         Record Type  TTL  IP Address\n",
    "*.<cf-domain>  A            30   35.111.111.111\n",
    "```\n",
    "\n",
    "Create CNAME for AWS load balancer:\n",
    "Map *.cf to AWS load balancer hostname\n",
    "\n",
    "```\n",
    "watch -n 5 nslookup api.cf.jb-cloud.com\n",
    "```"
   ]
  },
  {
   "cell_type": "markdown",
   "metadata": {},
   "source": [
    "### Validate Deployment"
   ]
  },
  {
   "cell_type": "code",
   "execution_count": null,
   "metadata": {},
   "outputs": [],
   "source": [
    "curl -k https://api.cf.jb-cloud.com/v2/info"
   ]
  },
  {
   "cell_type": "code",
   "execution_count": null,
   "metadata": {},
   "outputs": [],
   "source": [
    "cf api --skip-ssl-validation https://api.cf.jb-cloud.com\n",
    "cf auth admin <cf-values.yml.cf-admin_password>"
   ]
  },
  {
   "cell_type": "code",
   "execution_count": null,
   "metadata": {},
   "outputs": [],
   "source": [
    "cf create-org test-org\n",
    "cf create-space -o test-org test-space\n",
    "cf target -o test-org -s test-space"
   ]
  },
  {
   "cell_type": "code",
   "execution_count": null,
   "metadata": {},
   "outputs": [],
   "source": [
    "cf push test-node-app -p tests/smoke/assets/test-node-app"
   ]
  },
  {
   "cell_type": "code",
   "execution_count": null,
   "metadata": {},
   "outputs": [],
   "source": [
    "# install metrics server\n",
    "kubectl apply -f https://github.com/kubernetes-sigs/metrics-server/releases/download/v0.3.6/components.yaml"
   ]
  },
  {
   "cell_type": "code",
   "execution_count": null,
   "metadata": {},
   "outputs": [],
   "source": [
    "# Assuming that you ran `kapp deploy -a cf...`\n",
    "kapp delete -a cf"
   ]
  },
  {
   "cell_type": "code",
   "execution_count": null,
   "metadata": {},
   "outputs": [],
   "source": [
    "openssl s_client -connect api.tas.jb-cloud.com:443 -msg"
   ]
  }
 ],
 "metadata": {
  "kernelspec": {
   "display_name": "Bash",
   "language": "bash",
   "name": "bash"
  },
  "language_info": {
   "codemirror_mode": "shell",
   "file_extension": ".sh",
   "mimetype": "text/x-sh",
   "name": "bash"
  }
 },
 "nbformat": 4,
 "nbformat_minor": 4
}

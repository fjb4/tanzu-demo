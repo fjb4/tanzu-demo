{
 "cells": [
  {
   "cell_type": "markdown",
   "metadata": {},
   "source": [
    "# TAS for K8S"
   ]
  },
  {
   "cell_type": "markdown",
   "metadata": {},
   "source": [
    "## Provision cluster"
   ]
  },
  {
   "cell_type": "markdown",
   "metadata": {},
   "source": [
    "### Login to Tanzu Mission Control"
   ]
  },
  {
   "cell_type": "code",
   "execution_count": 1,
   "metadata": {},
   "outputs": [
    {
     "name": "stdout",
     "output_type": "stream",
     "text": [
      "\u001b[2mi\u001b[0m $TMC_API_TOKEN is set \n",
      "\u001b[32m√\u001b[0m Successfully created context tanzu-demo, to manage your contexts run `tmc system context -h`\n"
     ]
    }
   ],
   "source": [
    "source ../config.sh\n",
    "\n",
    "tmc login --no-configure --name tanzu-demo"
   ]
  },
  {
   "cell_type": "markdown",
   "metadata": {},
   "source": [
    "### Create cluster"
   ]
  },
  {
   "cell_type": "code",
   "execution_count": null,
   "metadata": {},
   "outputs": [],
   "source": [
    "source ../config.sh\n",
    "\n",
    "tmc cluster create --account-name ${ACCOUNT_NAME} --ssh-key-name ${SSH_KEY_NAME} --region ${REGION} --worker-node-count 5 --instance-type m5.xlarge --group ${GROUP} --name ${ALPHA_CLUSTER}"
   ]
  },
  {
   "cell_type": "markdown",
   "metadata": {},
   "source": [
    "### Monitor creation progress"
   ]
  },
  {
   "cell_type": "code",
   "execution_count": null,
   "metadata": {},
   "outputs": [],
   "source": [
    "tmc cluster list --group bush"
   ]
  },
  {
   "cell_type": "markdown",
   "metadata": {},
   "source": [
    "### Add cluster to kubeconfig file"
   ]
  },
  {
   "cell_type": "code",
   "execution_count": null,
   "metadata": {},
   "outputs": [],
   "source": [
    "source ../config.sh\n",
    "\n",
    "KUBECONFIG_ALPHA=`mktemp` && \\\n",
    "tmc cluster provisionedcluster kubeconfig get ${ALPHA_CLUSTER} >> ${KUBECONFIG_ALPHA}\n",
    "\n",
    "if [ $? -eq 0 ]; then\n",
    "    KUBECONFIG=${KUBECONFIG_ALPHA} kubectl config view --merge --flatten > ~/.kube/config\n",
    "    rm ${KUBECONFIG_ALPHA}\n",
    "fi"
   ]
  },
  {
   "cell_type": "markdown",
   "metadata": {},
   "source": [
    "### Update cluster permissions"
   ]
  },
  {
   "cell_type": "code",
   "execution_count": null,
   "metadata": {},
   "outputs": [],
   "source": [
    "source ../config.sh\n",
    "\n",
    "kubectl config use-context ${ALPHA_CLUSTER}\n",
    "kubectl create clusterrolebinding privileged-role-binding --clusterrole=vmware-system-tmc-psp-privileged --group=system:authenticated"
   ]
  },
  {
   "cell_type": "markdown",
   "metadata": {},
   "source": [
    "### Delete clusters"
   ]
  },
  {
   "cell_type": "code",
   "execution_count": 16,
   "metadata": {},
   "outputs": [
    {
     "name": "stdout",
     "output_type": "stream",
     "text": [
      "\u001b[32m√\u001b[0m Cluster is being deleted \n"
     ]
    }
   ],
   "source": [
    "source ../config.sh\n",
    "\n",
    "tmc cluster delete ${ALPHA_CLUSTER}"
   ]
  },
  {
   "cell_type": "markdown",
   "metadata": {},
   "source": [
    "## [Install](https://github.com/cloudfoundry/cf-for-k8s) TAS for K8S"
   ]
  },
  {
   "cell_type": "markdown",
   "metadata": {},
   "source": [
    "### Configure"
   ]
  },
  {
   "cell_type": "code",
   "execution_count": null,
   "metadata": {},
   "outputs": [],
   "source": [
    "source ../config.sh\n",
    "\n",
    "pushd ~/repos\n",
    "rm -rf ./cf-for-k8s\n",
    "\n",
    "git clone https://github.com/cloudfoundry/cf-for-k8s.git\n",
    "cd cf-for-k8s\n",
    "\n",
    "./hack/generate-values.sh -d cf.jb-cloud.com > ./cf-values.yml\n",
    "\n",
    "# configure Docker Hub as image registry\n",
    "echo \"app_registry:\n",
    "   hostname: https://index.docker.io/v1/\n",
    "   repository_prefix: \\\"$DOCKERHUB_USERNAME\\\"\n",
    "   username: \\\"$DOCKERHUB_USERNAME\\\"\n",
    "   password: \\\"$DOCKERHUB_PASSWORD\\\"\" >> ./cf-values.yml\n",
    "\n",
    "ytt -f config -f ./cf-values.yml > ./cf-for-k8s-rendered.yml\n",
    "\n",
    "popd"
   ]
  },
  {
   "cell_type": "markdown",
   "metadata": {},
   "source": [
    "## Deploy"
   ]
  },
  {
   "cell_type": "code",
   "execution_count": null,
   "metadata": {
    "scrolled": true
   },
   "outputs": [],
   "source": [
    "source ../config.sh\n",
    "\n",
    "kubectl config use-context ${ALPHA_CLUSTER}\n",
    "\n",
    "pushd ~/repos/cf-for-k8s\n",
    "\n",
    "kapp deploy -a cf -f ./cf-for-k8s-rendered.yml -y\n",
    "\n",
    "popd"
   ]
  },
  {
   "cell_type": "code",
   "execution_count": null,
   "metadata": {},
   "outputs": [],
   "source": [
    "kubectl get svc -n istio-system istio-ingressgateway -o jsonpath='{.status.loadBalancer.ingress[*].hostname}'"
   ]
  },
  {
   "cell_type": "markdown",
   "metadata": {},
   "source": [
    "```\n",
    "# sample A record in Google cloud DNS. The IP address below is the address of Ingress gateway's external IP\n",
    "Domain         Record Type  TTL  IP Address\n",
    "*.<cf-domain>  A            30   35.111.111.111\n",
    "```\n",
    "\n",
    "Create CNAME for AWS load balancer:\n",
    "Map *.cf to AWS load balancer hostname\n",
    "\n",
    "```\n",
    "watch -n 5 nslookup api.cf.jb-cloud.com\n",
    "```"
   ]
  },
  {
   "cell_type": "markdown",
   "metadata": {},
   "source": [
    "### Validate Deployment"
   ]
  },
  {
   "cell_type": "code",
   "execution_count": 13,
   "metadata": {},
   "outputs": [
    {
     "name": "stdout",
     "output_type": "stream",
     "text": [
      "{\"name\":\"\",\"build\":\"\",\"support\":\"\",\"version\":0,\"description\":\"\",\"authorization_endpoint\":\"https://login.cf.jb-cloud.com\",\"token_endpoint\":\"https://uaa.cf.jb-cloud.com\",\"min_cli_version\":\"\",\"min_recommended_cli_version\":\"\",\"app_ssh_endpoint\":\"TODO.TODO\",\"app_ssh_host_key_fingerprint\":\"placeholder\",\"app_ssh_oauth_client\":\"placeholder\",\"doppler_logging_endpoint\":\"wss://doppler.cf.jb-cloud.com:443\",\"api_version\":\"2.152.0\",\"osbapi_version\":\"2.15\",\"routing_endpoint\":\"https://api.cf.jb-cloud.com/routing\"}"
     ]
    }
   ],
   "source": [
    "curl -k https://api.cf.jb-cloud.com/v2/info"
   ]
  },
  {
   "cell_type": "code",
   "execution_count": 14,
   "metadata": {},
   "outputs": [
    {
     "name": "stdout",
     "output_type": "stream",
     "text": [
      "Setting api endpoint to \u001b[36;1mhttps://api.cf.jb-cloud.com\u001b[0m...\n",
      "\u001b[32;1mOK\u001b[0m\n",
      "\n",
      "api endpoint:   https://api.cf.jb-cloud.com\n",
      "api version:    3.87.0\n",
      "API endpoint: \u001b[36;1mhttps://api.cf.jb-cloud.com\u001b[0m\n",
      "Authenticating...\n",
      "\u001b[32;1mOK\u001b[0m\n",
      "\n",
      "Use '\u001b[36;1mcf target\u001b[0m' to view or set your target org and space.\n"
     ]
    }
   ],
   "source": [
    "cf api --skip-ssl-validation https://api.cf.jb-cloud.com\n",
    "cf auth admin wdgpwjbwa3lpucddnxac"
   ]
  },
  {
   "cell_type": "code",
   "execution_count": 15,
   "metadata": {},
   "outputs": [
    {
     "name": "stdout",
     "output_type": "stream",
     "text": [
      "Creating org \u001b[36;1mtest-org\u001b[0m as \u001b[36;1madmin\u001b[0m...\n",
      "\u001b[32;1mOK\u001b[0m\n",
      "\n",
      "Assigning role \u001b[36;1mOrgManager\u001b[0m to user \u001b[36;1madmin\u001b[0m in org \u001b[36;1mtest-org\u001b[0m...\n",
      "\u001b[32;1mOK\u001b[0m\n",
      "\n",
      "TIP: Use 'cf target -o \"test-org\"' to target new org\n",
      "Creating space \u001b[36;1mtest-space\u001b[0m in org \u001b[36;1mtest-org\u001b[0m as \u001b[36;1madmin\u001b[0m...\n",
      "\u001b[32;1mOK\u001b[0m\n",
      "\n",
      "Assigning role SpaceManager to user \u001b[36;1madmin\u001b[0m in org \u001b[36;1mtest-org\u001b[0m / space \u001b[36;1mtest-space\u001b[0m as \u001b[36;1madmin\u001b[0m...\n",
      "\u001b[32;1mOK\u001b[0m\n",
      "\n",
      "Assigning role SpaceDeveloper to user \u001b[36;1madmin\u001b[0m in org \u001b[36;1mtest-org\u001b[0m / space \u001b[36;1mtest-space\u001b[0m as \u001b[36;1madmin\u001b[0m...\n",
      "\u001b[32;1mOK\u001b[0m\n",
      "\n",
      "TIP: Use 'cf target -o \"test-org\" -s \"test-space\"' to target new space\n",
      "api endpoint:   https://api.cf.jb-cloud.com\n",
      "api version:    2.152.0\n",
      "user:           admin\n",
      "org:            test-org\n",
      "space:          test-space\n"
     ]
    }
   ],
   "source": [
    "cf create-org test-org\n",
    "cf create-space -o test-org test-space\n",
    "cf target -o test-org -s test-space"
   ]
  },
  {
   "cell_type": "code",
   "execution_count": null,
   "metadata": {},
   "outputs": [],
   "source": [
    "cf push test-node-app -p tests/smoke/assets/test-node-app"
   ]
  },
  {
   "cell_type": "code",
   "execution_count": null,
   "metadata": {},
   "outputs": [],
   "source": [
    "# install metrics server\n",
    "kubectl apply -f https://github.com/kubernetes-sigs/metrics-server/releases/download/v0.3.6/components.yaml"
   ]
  },
  {
   "cell_type": "code",
   "execution_count": null,
   "metadata": {},
   "outputs": [],
   "source": [
    "# Assuming that you ran `kapp deploy -a cf...`\n",
    "kapp delete -a cf"
   ]
  },
  {
   "cell_type": "code",
   "execution_count": null,
   "metadata": {},
   "outputs": [],
   "source": [
    "openssl s_client -connect api.tas.jb-cloud.com:443 -msg"
   ]
  }
 ],
 "metadata": {
  "kernelspec": {
   "display_name": "Bash",
   "language": "bash",
   "name": "bash"
  },
  "language_info": {
   "codemirror_mode": "shell",
   "file_extension": ".sh",
   "mimetype": "text/x-sh",
   "name": "bash"
  }
 },
 "nbformat": 4,
 "nbformat_minor": 4
}

{
 "cells": [
  {
   "cell_type": "markdown",
   "metadata": {},
   "source": [
    "# Install [Argo CD](https://argoproj.github.io/argo-cd/)"
   ]
  },
  {
   "cell_type": "code",
   "execution_count": null,
   "metadata": {},
   "outputs": [],
   "source": [
    "source ../config.sh\n",
    "\n",
    "kubectl config use-context ${CICD_CLUSTER}\n",
    "\n",
    "echo\n",
    "echo 'Create Argo CD namespace...'\n",
    "kubectl create namespace argocd\n",
    "\n",
    "echo\n",
    "echo 'Install Argo CD on the CI/CD cluster...'\n",
    "kubectl -n argocd apply -f https://raw.githubusercontent.com/argoproj/argo-cd/stable/manifests/install.yaml\n",
    "\n",
    "echo\n",
    "echo 'Fetch a Load Balanced IP for the Argo CD server...'\n",
    "kubectl -n argocd patch svc argocd-server -p '{\"spec\": {\"type\": \"LoadBalancer\"}}'"
   ]
  },
  {
   "cell_type": "markdown",
   "metadata": {},
   "source": [
    "### Wait for load balancer to be provisioned..."
   ]
  },
  {
   "cell_type": "code",
   "execution_count": null,
   "metadata": {},
   "outputs": [],
   "source": [
    "source ../config.sh\n",
    "\n",
    "kubectl config use-context ${CICD_CLUSTER}\n",
    "\n",
    "kubectl -n argocd get svc argocd-server\n",
    "nslookup `kubectl -n argocd get svc/argocd-server -o=jsonpath='{.status.loadBalancer.ingress[0].hostname}'`"
   ]
  },
  {
   "cell_type": "markdown",
   "metadata": {},
   "source": [
    "### Finish configuring Argo CD"
   ]
  },
  {
   "cell_type": "code",
   "execution_count": null,
   "metadata": {},
   "outputs": [],
   "source": [
    "source ../config.sh\n",
    "\n",
    "kubectl config use-context ${CICD_CLUSTER}\n",
    "\n",
    "ARGOCD_USERNAME=admin\n",
    "ARGOCD_PASSWORD=`kubectl -n argocd get pods -l app.kubernetes.io/name=argocd-server -o name | cut -d'/' -f 2`\n",
    "\n",
    "echo\n",
    "echo 'Store the Argo CD host name...'\n",
    "ARGOCD_HOST=`kubectl -n argocd get svc/argocd-server -o json | jq '.status.loadBalancer.ingress[0].hostname' -j`\n",
    "\n",
    "argocd login ${ARGOCD_HOST} --name argocd --username ${ARGOCD_USERNAME} --password ${ARGOCD_PASSWORD} --insecure\n",
    "\n",
    "argocd cluster add ${ALPHA_CLUSTER}\n",
    "argocd cluster add ${BRAVO_CLUSTER}\n",
    "\n",
    "echo\n",
    "echo \"Argo CD Host: $ARGOCD_HOST\"\n",
    "echo \"Username: $ARGOCD_USERNAME\"\n",
    "echo \"Password: $ARGOCD_PASSWORD\""
   ]
  }
 ],
 "metadata": {
  "kernelspec": {
   "display_name": "Bash",
   "language": "bash",
   "name": "bash"
  },
  "language_info": {
   "codemirror_mode": "shell",
   "file_extension": ".sh",
   "mimetype": "text/x-sh",
   "name": "bash"
  }
 },
 "nbformat": 4,
 "nbformat_minor": 4
}

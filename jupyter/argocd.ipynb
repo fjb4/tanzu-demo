{
 "cells": [
  {
   "cell_type": "markdown",
   "metadata": {},
   "source": [
    "# Install [Argo CD](https://argoproj.github.io/argo-cd/)"
   ]
  },
  {
   "cell_type": "code",
   "execution_count": null,
   "metadata": {},
   "outputs": [],
   "source": [
    "source ../config.sh\n",
    "\n",
    "kubectl config use-context ${CICD_CLUSTER}\n",
    "\n",
    "echo\n",
    "echo 'Create Argo CD namespace...'\n",
    "kubectl create namespace argocd\n",
    "\n",
    "echo\n",
    "echo 'Install Argo CD on the CI/CD cluster...'\n",
    "kubectl -n argocd apply -f https://raw.githubusercontent.com/argoproj/argo-cd/stable/manifests/install.yaml\n",
    "\n",
    "echo\n",
    "echo 'Fetch a Load Balanced IP for the Argo CD server...'\n",
    "kubectl -n argocd patch svc argocd-server -p '{\"spec\": {\"type\": \"LoadBalancer\"}}'"
   ]
  },
  {
   "cell_type": "markdown",
   "metadata": {},
   "source": [
    "### Wait for load balancer to be provisioned..."
   ]
  },
  {
   "cell_type": "code",
   "execution_count": null,
   "metadata": {},
   "outputs": [],
   "source": [
    "source ../config.sh\n",
    "\n",
    "kubectl config use-context ${CICD_CLUSTER}\n",
    "\n",
    "kubectl -n argocd get svc argocd-server\n",
    "nslookup `kubectl -n argocd get svc/argocd-server -o=jsonpath='{.status.loadBalancer.ingress[0].hostname}'`"
   ]
  },
  {
   "cell_type": "markdown",
   "metadata": {},
   "source": [
    "### Finish configuring Argo CD"
   ]
  },
  {
   "cell_type": "code",
   "execution_count": null,
   "metadata": {},
   "outputs": [],
   "source": [
    "source ../config.sh\n",
    "\n",
    "kubectl config use-context ${CICD_CLUSTER}\n",
    "\n",
    "ARGOCD_USERNAME=admin\n",
    "ARGOCD_PASSWORD=`kubectl -n argocd get pods -l app.kubernetes.io/name=argocd-server -o name | cut -d'/' -f 2`\n",
    "\n",
    "echo\n",
    "echo 'Store the Argo CD host name...'\n",
    "ARGOCD_HOST=`kubectl -n argocd get svc/argocd-server -o json | jq '.status.loadBalancer.ingress[0].hostname' -j`\n",
    "\n",
    "./argocd login ${ARGOCD_HOST} --name argocd --username ${ARGOCD_USERNAME} --password ${ARGOCD_PASSWORD} --insecure\n",
    "\n",
    "argocd cluster add ${ALPHA_CLUSTER}\n",
    "argocd cluster add ${BRAVO_CLUSTER}\n",
    "\n",
    "echo\n",
    "echo \"Argo CD Host: $ARGOCD_HOST\"\n",
    "echo \"Username: $ARGOCD_USERNAME\"\n",
    "echo \"Password: $ARGOCD_PASSWORD\""
   ]
  },
  {
   "cell_type": "markdown",
   "metadata": {},
   "source": [
    "# Install Kubeapps"
   ]
  },
  {
   "cell_type": "markdown",
   "metadata": {},
   "source": [
    "### Create service accounts"
   ]
  },
  {
   "cell_type": "code",
   "execution_count": null,
   "metadata": {},
   "outputs": [],
   "source": [
    "source ../config.sh\n",
    "\n",
    "kubectl config use-context ${ALPHA_CLUSTER}\n",
    "\n",
    "echo\n",
    "kubectl create namespace kubeapps\n",
    "kubectl create -n kubeapps serviceaccount kubeapps-operator\n",
    "kubectl create clusterrolebinding kubeapps-operator --clusterrole=cluster-admin --serviceaccount=kubeapps:kubeapps-operator\n",
    "\n",
    "echo\n",
    "echo 'Token for kubeapps on Alpha cluster:'\n",
    "kubectl get -n kubeapps secret $(kubectl get -n kubeapps serviceaccount kubeapps-operator -o jsonpath='{.secrets[].name}') -o go-template='{{.data.token | base64decode}}' && echo\n",
    "\n",
    "echo\n",
    "kubectl config use-context ${BRAVO_CLUSTER}\n",
    "\n",
    "echo\n",
    "kubectl create namespace kubeapps\n",
    "kubectl create -n kubeapps serviceaccount kubeapps-operator\n",
    "kubectl create clusterrolebinding kubeapps-operator --clusterrole=cluster-admin --serviceaccount=kubeapps:kubeapps-operator\n",
    "\n",
    "echo\n",
    "echo 'Token for kubeapps on Bravo cluster:'\n",
    "kubectl get -n kubeapps secret $(kubectl get -n kubeapps serviceaccount kubeapps-operator -o jsonpath='{.secrets[].name}') -o go-template='{{.data.token | base64decode}}' && echo"
   ]
  },
  {
   "cell_type": "markdown",
   "metadata": {},
   "source": [
    "### Configure Argo CD to deploy Kubeapps"
   ]
  },
  {
   "cell_type": "code",
   "execution_count": null,
   "metadata": {},
   "outputs": [],
   "source": [
    "source ../config.sh\n",
    "\n",
    "ALPHA_CLUSTER_URL=`tmc cluster provisionedcluster kubeconfig get ${ALPHA_CLUSTER} | yq r - 'clusters[0].cluster.server'`\n",
    "BRAVO_CLUSTER_URL=`tmc cluster provisionedcluster kubeconfig get ${BRAVO_CLUSTER} | yq r - 'clusters[0].cluster.server'`\n",
    "\n",
    "kubectl config use-context ${CICD_CLUSTER}\n",
    "\n",
    "echo\n",
    "echo 'Configure the Kubeapps Helm chart in Argo CD...'\n",
    "cat ./kubernetes/cicd/argocd/kubeapps.yml | sed \"s/CLUSTER_URL/${ALPHA_CLUSTER_URL//\\//\\\\/}/\" | sed \"s/ENVIRONMENT/alpha/\" | kubectl apply -n argocd -f -\n",
    "cat ./kubernetes/cicd/argocd/kubeapps.yml | sed \"s/CLUSTER_URL/${BRAVO_CLUSTER_URL//\\//\\\\/}/\" | sed \"s/ENVIRONMENT/bravo/\" | kubectl apply -n argocd -f -"
   ]
  }
 ],
 "metadata": {
  "kernelspec": {
   "display_name": "Bash",
   "language": "bash",
   "name": "bash"
  },
  "language_info": {
   "codemirror_mode": "shell",
   "file_extension": ".sh",
   "mimetype": "text/x-sh",
   "name": "bash"
  }
 },
 "nbformat": 4,
 "nbformat_minor": 4
}

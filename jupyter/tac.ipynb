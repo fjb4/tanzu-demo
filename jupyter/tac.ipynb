{
 "cells": [
  {
   "cell_type": "markdown",
   "metadata": {},
   "source": [
    "## Login to Tanzu Mission Control"
   ]
  },
  {
   "cell_type": "code",
   "execution_count": null,
   "metadata": {},
   "outputs": [],
   "source": [
    "source ../config.sh\n",
    "\n",
    "tmc login --no-configure --name tanzu-demo"
   ]
  },
  {
   "cell_type": "markdown",
   "metadata": {},
   "source": [
    "## Create clusters"
   ]
  },
  {
   "cell_type": "code",
   "execution_count": null,
   "metadata": {},
   "outputs": [],
   "source": [
    "source ../config.sh\n",
    "\n",
    "tmc cluster create --account-name ${ACCOUNT_NAME} --ssh-key-name ${SSH_KEY_NAME} --region ${REGION} --worker-node-count 3 --instance-type m5.xlarge --group ${GROUP} --name ${CICD_CLUSTER}\n",
    "tmc cluster create --account-name ${ACCOUNT_NAME} --ssh-key-name ${SSH_KEY_NAME} --region ${REGION} --worker-node-count 3 --instance-type m5.xlarge --group ${GROUP} --name ${ALPHA_CLUSTER}"
   ]
  },
  {
   "cell_type": "markdown",
   "metadata": {},
   "source": [
    "## Monitor creation progress"
   ]
  },
  {
   "cell_type": "code",
   "execution_count": null,
   "metadata": {},
   "outputs": [],
   "source": [
    "tmc cluster list --group bush"
   ]
  },
  {
   "cell_type": "markdown",
   "metadata": {},
   "source": [
    "## Add clusters to kubeconfig file"
   ]
  },
  {
   "cell_type": "code",
   "execution_count": null,
   "metadata": {},
   "outputs": [],
   "source": [
    "source ../config.sh\n",
    "\n",
    "KUBECONFIG_CICD=`mktemp` && \\\n",
    "tmc cluster provisionedcluster kubeconfig get ${CICD_CLUSTER} >> ${KUBECONFIG_CICD} && \\\n",
    "KUBECONFIG_ALPHA=`mktemp` && \\\n",
    "tmc cluster provisionedcluster kubeconfig get ${ALPHA_CLUSTER} >> ${KUBECONFIG_ALPHA}\n",
    "\n",
    "if [ $? -eq 0 ]; then\n",
    "    KUBECONFIG=${KUBECONFIG_CICD}:${KUBECONFIG_ALPHA}:${KUBECONFIG_BRAVO} kubectl config view --merge --flatten > ~/.kube/config\n",
    "\n",
    "    rm ${KUBECONFIG_CICD}\n",
    "    rm ${KUBECONFIG_ALPHA}\n",
    "fi"
   ]
  },
  {
   "cell_type": "markdown",
   "metadata": {},
   "source": [
    "## Update cluster permissions"
   ]
  },
  {
   "cell_type": "code",
   "execution_count": null,
   "metadata": {},
   "outputs": [],
   "source": [
    "source ../config.sh\n",
    "\n",
    "kubectl config use-context ${CICD_CLUSTER}\n",
    "kubectl create clusterrolebinding privileged-role-binding --clusterrole=vmware-system-tmc-psp-privileged --group=system:authenticated\n",
    "\n",
    "echo\n",
    "kubectl config use-context ${ALPHA_CLUSTER}\n",
    "kubectl create clusterrolebinding privileged-role-binding --clusterrole=vmware-system-tmc-psp-privileged --group=system:authenticated"
   ]
  },
  {
   "cell_type": "markdown",
   "metadata": {},
   "source": [
    "## Delete clusters"
   ]
  },
  {
   "cell_type": "code",
   "execution_count": null,
   "metadata": {},
   "outputs": [],
   "source": [
    "source ../config.sh\n",
    "\n",
    "tmc cluster delete ${CICD_CLUSTER}\n",
    "tmc cluster delete ${ALPHA_CLUSTER}"
   ]
  },
  {
   "cell_type": "markdown",
   "metadata": {},
   "source": [
    "# Install [Argo CD](https://argoproj.github.io/argo-cd/)"
   ]
  },
  {
   "cell_type": "code",
   "execution_count": null,
   "metadata": {},
   "outputs": [],
   "source": [
    "source ../config.sh\n",
    "\n",
    "kubectl config use-context ${CICD_CLUSTER}\n",
    "\n",
    "echo\n",
    "echo 'Create Argo CD namespace...'\n",
    "kubectl create namespace argocd\n",
    "\n",
    "echo\n",
    "echo 'Install Argo CD on the CI/CD cluster...'\n",
    "kubectl -n argocd apply -f https://raw.githubusercontent.com/argoproj/argo-cd/stable/manifests/install.yaml\n",
    "\n",
    "echo\n",
    "echo 'Fetch a Load Balanced IP for the Argo CD server...'\n",
    "kubectl -n argocd patch svc argocd-server -p '{\"spec\": {\"type\": \"LoadBalancer\"}}'"
   ]
  },
  {
   "cell_type": "markdown",
   "metadata": {},
   "source": [
    "### Wait for load balancer to be provisioned..."
   ]
  },
  {
   "cell_type": "code",
   "execution_count": null,
   "metadata": {},
   "outputs": [],
   "source": [
    "source ../config.sh\n",
    "\n",
    "kubectl config use-context ${CICD_CLUSTER}\n",
    "\n",
    "kubectl -n argocd get svc argocd-server\n",
    "nslookup `kubectl -n argocd get svc/argocd-server -o=jsonpath='{.status.loadBalancer.ingress[0].hostname}'`"
   ]
  },
  {
   "cell_type": "markdown",
   "metadata": {},
   "source": [
    "### Finish configuring Argo CD"
   ]
  },
  {
   "cell_type": "code",
   "execution_count": null,
   "metadata": {},
   "outputs": [],
   "source": [
    "source ../config.sh\n",
    "\n",
    "kubectl config use-context ${CICD_CLUSTER}\n",
    "\n",
    "ARGOCD_USERNAME=admin\n",
    "ARGOCD_PASSWORD=`kubectl -n argocd get pods -l app.kubernetes.io/name=argocd-server -o name | cut -d'/' -f 2`\n",
    "\n",
    "echo\n",
    "echo 'Store the Argo CD host name...'\n",
    "ARGOCD_HOST=`kubectl -n argocd get svc/argocd-server -o json | jq '.status.loadBalancer.ingress[0].hostname' -j`\n",
    "\n",
    "argocd login ${ARGOCD_HOST} --name argocd --username ${ARGOCD_USERNAME} --password ${ARGOCD_PASSWORD} --insecure\n",
    "\n",
    "argocd cluster add ${ALPHA_CLUSTER}\n",
    "\n",
    "echo\n",
    "echo \"Argo CD Host: $ARGOCD_HOST\"\n",
    "echo \"Username: $ARGOCD_USERNAME\"\n",
    "echo \"Password: $ARGOCD_PASSWORD\""
   ]
  },
  {
   "cell_type": "markdown",
   "metadata": {},
   "source": [
    "# Install [Kubeapps](https://kubeapps.com/)"
   ]
  },
  {
   "cell_type": "markdown",
   "metadata": {},
   "source": [
    "### Create service accounts"
   ]
  },
  {
   "cell_type": "code",
   "execution_count": null,
   "metadata": {},
   "outputs": [],
   "source": [
    "source ../config.sh\n",
    "\n",
    "kubectl config use-context ${ALPHA_CLUSTER}\n",
    "\n",
    "echo\n",
    "kubectl create namespace kubeapps\n",
    "kubectl create -n kubeapps serviceaccount kubeapps-operator\n",
    "kubectl create clusterrolebinding kubeapps-operator --clusterrole=cluster-admin --serviceaccount=kubeapps:kubeapps-operator"
   ]
  },
  {
   "cell_type": "markdown",
   "metadata": {},
   "source": [
    "### Configure Argo CD to deploy Kubeapps"
   ]
  },
  {
   "cell_type": "code",
   "execution_count": null,
   "metadata": {},
   "outputs": [],
   "source": [
    "source ../config.sh\n",
    "\n",
    "ALPHA_CLUSTER_URL=`tmc cluster provisionedcluster kubeconfig get ${ALPHA_CLUSTER} | yq r - 'clusters[0].cluster.server'`\n",
    "\n",
    "kubectl config use-context ${CICD_CLUSTER}\n",
    "\n",
    "echo\n",
    "echo 'Configure the Kubeapps Helm chart in Argo CD...'\n",
    "cat ../kubernetes/cicd/argocd/kubeapps.yml | sed \"s/CLUSTER_URL/${ALPHA_CLUSTER_URL//\\//\\\\/}/\" | sed \"s/ENVIRONMENT/alpha/\" | kubectl apply -n argocd -f -"
   ]
  },
  {
   "cell_type": "markdown",
   "metadata": {},
   "source": [
    "### Get Kubeapps endpoints & login tokens"
   ]
  },
  {
   "cell_type": "code",
   "execution_count": null,
   "metadata": {},
   "outputs": [],
   "source": [
    "source ../config.sh\n",
    "\n",
    "kubectl config use-context ${ALPHA_CLUSTER}\n",
    "\n",
    "echo\n",
    "echo 'Kubeapps on Alpha cluster:'\n",
    "kubectl get -n kubeapps -o json service kubeapps-alpha | jq '.status.loadBalancer.ingress[0].hostname' -j\n",
    "\n",
    "echo\n",
    "echo\n",
    "echo 'Alpha cluster login token:'\n",
    "kubectl get -n kubeapps secret $(kubectl get -n kubeapps serviceaccount kubeapps-operator -o jsonpath='{.secrets[].name}') -o go-template='{{.data.token | base64decode}}' && echo"
   ]
  },
  {
   "cell_type": "markdown",
   "metadata": {},
   "source": [
    "## Configure Argo CD to deploy Acme Fitness"
   ]
  },
  {
   "cell_type": "code",
   "execution_count": null,
   "metadata": {},
   "outputs": [],
   "source": [
    "source ../config.sh\n",
    "\n",
    "kubectl config use-context ${ALPHA_CLUSTER}\n",
    "\n",
    "kubectl create secret generic cart-redis-pass --from-literal=password=password123\n",
    "kubectl create secret generic catalog-mongo-pass --from-literal=password=password123\n",
    "kubectl create secret generic order-postgres-pass --from-literal=password=password123\n",
    "kubectl create secret generic users-mongo-pass --from-literal=password=password123\n",
    "kubectl create secret generic users-redis-pass --from-literal=password=password123\n",
    "\n",
    "ALPHA_CLUSTER_URL=`tmc cluster provisionedcluster kubeconfig get ${ALPHA_CLUSTER} | yq r - 'clusters[0].cluster.server'`\n",
    "\n",
    "kubectl config use-context ${CICD_CLUSTER}\n",
    "\n",
    "echo\n",
    "echo 'Configure the applications in Argo CD...'\n",
    "cat ../kubernetes/cicd/argocd/acme-fitness.yml | sed \"s/CLUSTER_URL/${ALPHA_CLUSTER_URL//\\//\\\\/}/\" | sed \"s/ENVIRONMENT/alpha/\" | kubectl apply -n argocd -f -"
   ]
  }
 ],
 "metadata": {
  "kernelspec": {
   "display_name": "Bash",
   "language": "bash",
   "name": "bash"
  },
  "language_info": {
   "codemirror_mode": "shell",
   "file_extension": ".sh",
   "mimetype": "text/x-sh",
   "name": "bash"
  }
 },
 "nbformat": 4,
 "nbformat_minor": 4
}

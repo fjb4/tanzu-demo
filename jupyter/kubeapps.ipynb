{
 "cells": [
  {
   "cell_type": "markdown",
   "metadata": {},
   "source": [
    "# Install [Kubeapps](https://kubeapps.com/)"
   ]
  },
  {
   "cell_type": "markdown",
   "metadata": {},
   "source": [
    "### Create service accounts"
   ]
  },
  {
   "cell_type": "code",
   "execution_count": null,
   "metadata": {},
   "outputs": [],
   "source": [
    "source ../config.sh\n",
    "\n",
    "kubectl config use-context ${ALPHA_CLUSTER}\n",
    "\n",
    "echo\n",
    "kubectl create namespace kubeapps\n",
    "kubectl create -n kubeapps serviceaccount kubeapps-operator\n",
    "kubectl create clusterrolebinding kubeapps-operator --clusterrole=cluster-admin --serviceaccount=kubeapps:kubeapps-operator\n",
    "\n",
    "echo\n",
    "echo 'Token for kubeapps on Alpha cluster:'\n",
    "kubectl get -n kubeapps secret $(kubectl get -n kubeapps serviceaccount kubeapps-operator -o jsonpath='{.secrets[].name}') -o go-template='{{.data.token | base64decode}}' && echo\n",
    "\n",
    "echo\n",
    "kubectl config use-context ${BRAVO_CLUSTER}\n",
    "\n",
    "echo\n",
    "kubectl create namespace kubeapps\n",
    "kubectl create -n kubeapps serviceaccount kubeapps-operator\n",
    "kubectl create clusterrolebinding kubeapps-operator --clusterrole=cluster-admin --serviceaccount=kubeapps:kubeapps-operator\n",
    "\n",
    "echo\n",
    "echo 'Token for kubeapps on Bravo cluster:'\n",
    "kubectl get -n kubeapps secret $(kubectl get -n kubeapps serviceaccount kubeapps-operator -o jsonpath='{.secrets[].name}') -o go-template='{{.data.token | base64decode}}' && echo"
   ]
  },
  {
   "cell_type": "markdown",
   "metadata": {},
   "source": [
    "### Configure Argo CD to deploy Kubeapps"
   ]
  },
  {
   "cell_type": "code",
   "execution_count": null,
   "metadata": {},
   "outputs": [],
   "source": [
    "source ../config.sh\n",
    "\n",
    "ALPHA_CLUSTER_URL=`tmc cluster provisionedcluster kubeconfig get ${ALPHA_CLUSTER} | yq r - 'clusters[0].cluster.server'`\n",
    "BRAVO_CLUSTER_URL=`tmc cluster provisionedcluster kubeconfig get ${BRAVO_CLUSTER} | yq r - 'clusters[0].cluster.server'`\n",
    "\n",
    "kubectl config use-context ${CICD_CLUSTER}\n",
    "\n",
    "echo\n",
    "echo 'Configure the Kubeapps Helm chart in Argo CD...'\n",
    "cat ../kubernetes/cicd/argocd/kubeapps.yml | sed \"s/CLUSTER_URL/${ALPHA_CLUSTER_URL//\\//\\\\/}/\" | sed \"s/ENVIRONMENT/alpha/\" | kubectl apply -n argocd -f -\n",
    "cat ../kubernetes/cicd/argocd/kubeapps.yml | sed \"s/CLUSTER_URL/${BRAVO_CLUSTER_URL//\\//\\\\/}/\" | sed \"s/ENVIRONMENT/bravo/\" | kubectl apply -n argocd -f -"
   ]
  },
  {
   "cell_type": "markdown",
   "metadata": {},
   "source": [
    "### Get Kubeapps endpoints & login tokens"
   ]
  },
  {
   "cell_type": "code",
   "execution_count": null,
   "metadata": {},
   "outputs": [],
   "source": [
    "source ../config.sh\n",
    "\n",
    "kubectl config use-context ${ALPHA_CLUSTER}\n",
    "\n",
    "echo\n",
    "echo 'Kubeapps on Alpha cluster:'\n",
    "kubectl get -n kubeapps -o json service kubeapps-alpha | jq '.status.loadBalancer.ingress[0].hostname' -j\n",
    "\n",
    "echo\n",
    "echo\n",
    "echo 'Alpha cluster login token:'\n",
    "kubectl get -n kubeapps secret $(kubectl get -n kubeapps serviceaccount kubeapps-operator -o jsonpath='{.secrets[].name}') -o go-template='{{.data.token | base64decode}}' && echo\n",
    "\n",
    "echo\n",
    "kubectl config use-context ${BRAVO_CLUSTER}\n",
    "\n",
    "echo\n",
    "echo 'Kubeapps on Bravo cluster:'\n",
    "kubectl get -n kubeapps -o json service kubeapps-bravo | jq '.status.loadBalancer.ingress[0].hostname' -j\n",
    "\n",
    "echo\n",
    "echo\n",
    "echo 'Bravo cluster login token:'\n",
    "kubectl get -n kubeapps secret $(kubectl get -n kubeapps serviceaccount kubeapps-operator -o jsonpath='{.secrets[].name}') -o go-template='{{.data.token | base64decode}}' && echo"
   ]
  }
 ],
 "metadata": {
  "kernelspec": {
   "display_name": "Bash",
   "language": "bash",
   "name": "bash"
  },
  "language_info": {
   "codemirror_mode": "shell",
   "file_extension": ".sh",
   "mimetype": "text/x-sh",
   "name": "bash"
  }
 },
 "nbformat": 4,
 "nbformat_minor": 4
}

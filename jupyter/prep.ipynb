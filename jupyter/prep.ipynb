{
 "cells": [
  {
   "cell_type": "markdown",
   "metadata": {},
   "source": [
    "## Delete existing Docker images"
   ]
  },
  {
   "cell_type": "code",
   "execution_count": null,
   "metadata": {},
   "outputs": [],
   "source": [
    "source ../config.sh\n",
    "\n",
    "set -e\n",
    "\n",
    "TOKEN=$(curl -s -H \"Content-Type: application/json\" -X POST -d '{\"username\": \"'${DOCKERHUB_USERNAME}'\", \"password\": \"'${DOCKERHUB_PASSWORD}'\"}' https://hub.docker.com/v2/users/login/ | jq -r .token)\n",
    "\n",
    "REPOSITORY_NAME=\"account-service\"\n",
    "curl -X DELETE -s -H \"Authorization: JWT ${TOKEN}\" https://hub.docker.com/v2/repositories/${DOCKERHUB_USERNAME}/${REPOSITORY_NAME}/\n",
    "\n",
    "REPOSITORY_NAME=\"confirmation-service\"\n",
    "curl -X DELETE -s -H \"Authorization: JWT ${TOKEN}\" https://hub.docker.com/v2/repositories/${DOCKERHUB_USERNAME}/${REPOSITORY_NAME}/\n",
    "\n",
    "REPOSITORY_NAME=\"payment-service\"\n",
    "curl -X DELETE -s -H \"Authorization: JWT ${TOKEN}\" https://hub.docker.com/v2/repositories/${DOCKERHUB_USERNAME}/${REPOSITORY_NAME}/\n",
    "\n",
    "REPOSITORY_NAME=\"dotnet-core-react-example\"\n",
    "curl -X DELETE -s -H \"Authorization: JWT ${TOKEN}\" https://hub.docker.com/v2/repositories/${DOCKERHUB_USERNAME}/${REPOSITORY_NAME}/"
   ]
  },
  {
   "cell_type": "markdown",
   "metadata": {},
   "source": [
    "## Login to Tanzu Mission Control"
   ]
  },
  {
   "cell_type": "code",
   "execution_count": null,
   "metadata": {},
   "outputs": [],
   "source": [
    "source ../config.sh\n",
    "\n",
    "tmc login --no-configure --name tanzu-demo"
   ]
  },
  {
   "cell_type": "markdown",
   "metadata": {},
   "source": [
    "## Create clusters"
   ]
  },
  {
   "cell_type": "code",
   "execution_count": null,
   "metadata": {},
   "outputs": [],
   "source": [
    "source ../config.sh\n",
    "export $TMC_API_TOKEN=m4CAp1ZUOC81J2czsdWUQVRbx8wPiXBiKClUSEmtbsOJ6248OiDlyiZ8NZbmldd8\n",
    "\n",
    "tmc cluster create --account-name ${ACCOUNT_NAME} --ssh-key-name ${SSH_KEY_NAME} --region ${REGION} --worker-node-count 3 --instance-type m5.xlarge --group ${GROUP} --name ${CICD_CLUSTER}\n",
    "tmc cluster create --account-name ${ACCOUNT_NAME} --ssh-key-name ${SSH_KEY_NAME} --region ${REGION} --worker-node-count 3 --instance-type m5.xlarge --group ${GROUP} --name ${ALPHA_CLUSTER}\n",
    "tmc cluster create --account-name ${ACCOUNT_NAME} --ssh-key-name ${SSH_KEY_NAME} --region ${REGION} --worker-node-count 3 --instance-type m5.xlarge --group ${GROUP} --name ${BRAVO_CLUSTER}"
   ]
  },
  {
   "cell_type": "markdown",
   "metadata": {},
   "source": [
    "## Monitor creation progress"
   ]
  },
  {
   "cell_type": "code",
   "execution_count": null,
   "metadata": {},
   "outputs": [],
   "source": [
    "tmc cluster list --group bush"
   ]
  },
  {
   "cell_type": "markdown",
   "metadata": {},
   "source": [
    "## Add clusters to kubeconfig file"
   ]
  },
  {
   "cell_type": "code",
   "execution_count": null,
   "metadata": {},
   "outputs": [],
   "source": [
    "source ../config.sh\n",
    "\n",
    "KUBECONFIG_CICD=`mktemp` && \\\n",
    "tmc cluster provisionedcluster kubeconfig get ${CICD_CLUSTER} >> ${KUBECONFIG_CICD} && \\\n",
    "KUBECONFIG_ALPHA=`mktemp` && \\\n",
    "tmc cluster provisionedcluster kubeconfig get ${ALPHA_CLUSTER} >> ${KUBECONFIG_ALPHA} && \\\n",
    "KUBECONFIG_BRAVO=`mktemp` && \\\n",
    "tmc cluster provisionedcluster kubeconfig get ${BRAVO_CLUSTER} >> ${KUBECONFIG_BRAVO}\n",
    "\n",
    "if [ $? -eq 0 ]; then\n",
    "    KUBECONFIG=${KUBECONFIG_CICD}:${KUBECONFIG_ALPHA}:${KUBECONFIG_BRAVO} kubectl config view --merge --flatten > ~/.kube/config\n",
    "\n",
    "    rm ${KUBECONFIG_CICD}\n",
    "    rm ${KUBECONFIG_ALPHA}\n",
    "    rm ${KUBECONFIG_BRAVO}\n",
    "fi"
   ]
  },
  {
   "cell_type": "markdown",
   "metadata": {},
   "source": [
    "## Update cluster permissions"
   ]
  },
  {
   "cell_type": "code",
   "execution_count": null,
   "metadata": {},
   "outputs": [],
   "source": [
    "source ../config.sh\n",
    "\n",
    "kubectl config use-context ${CICD_CLUSTER}\n",
    "kubectl create clusterrolebinding privileged-role-binding --clusterrole=vmware-system-tmc-psp-privileged --group=system:authenticated\n",
    "\n",
    "echo\n",
    "kubectl config use-context ${ALPHA_CLUSTER}\n",
    "kubectl create clusterrolebinding privileged-role-binding --clusterrole=vmware-system-tmc-psp-privileged --group=system:authenticated\n",
    "\n",
    "echo\n",
    "kubectl config use-context ${BRAVO_CLUSTER}\n",
    "kubectl create clusterrolebinding privileged-role-binding --clusterrole=vmware-system-tmc-psp-privileged --group=system:authenticated"
   ]
  }
 ],
 "metadata": {
  "kernelspec": {
   "display_name": "Bash",
   "language": "bash",
   "name": "bash"
  },
  "language_info": {
   "codemirror_mode": "shell",
   "file_extension": ".sh",
   "mimetype": "text/x-sh",
   "name": "bash"
  }
 },
 "nbformat": 4,
 "nbformat_minor": 4
}
